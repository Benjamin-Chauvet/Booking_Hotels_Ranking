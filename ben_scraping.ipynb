{
 "cells": [
  {
   "cell_type": "markdown",
   "metadata": {},
   "source": [
    "# Loop to manage windows"
   ]
  },
  {
   "cell_type": "code",
   "execution_count": 91,
   "metadata": {},
   "outputs": [],
   "source": [
    "from selenium import webdriver\n",
    "from selenium.webdriver.common.by import By\n",
    "from time import sleep"
   ]
  },
  {
   "cell_type": "markdown",
   "metadata": {},
   "source": [
    "Driver settings :"
   ]
  },
  {
   "cell_type": "code",
   "execution_count": 142,
   "metadata": {},
   "outputs": [],
   "source": [
    "option = webdriver.ChromeOptions()\n",
    "option.add_argument(\"start-maximized\")\n",
    "\n",
    "url = 'https://www.booking.com/searchresults.en-gb.html?label=gen173nr-1FCAMoTTjjAkgJWARoTYgBAZgBCbgBF8gBDNgBAegBAfgBA4gCAagCA7gC7IOlmwbAAgHSAiQyZjdmNDc2OS00Yjg5LTRjNjItOWE3Yi0wNTQ2YzkwOTljNmLYAgXgAgE&lang=en-gb&sid=d98fb0657b85147a603aa5741b87a9c7&sb=1&sb_lp=1&src=index&src_elem=sb&error_url=https%3A%2F%2Fwww.booking.com%2Findex.en-gb.html%3Flabel%3Dgen173nr-1FCAMoTTjjAkgJWARoTYgBAZgBCbgBF8gBDNgBAegBAfgBA4gCAagCA7gC7IOlmwbAAgHSAiQyZjdmNDc2OS00Yjg5LTRjNjItOWE3Yi0wNTQ2YzkwOTljNmLYAgXgAgE%26sid%3Dd98fb0657b85147a603aa5741b87a9c7%26sb_price_type%3Dtotal%26%26&ss=Paris%2C+France&is_ski_area=&ssne=Lyon&ssne_untouched=Lyon&checkin_year=&checkin_month=&checkout_year=&checkout_month=&efdco=1&group_adults=2&group_children=0&no_rooms=1&b_h4u_keep_filters=&from_sf=1&dest_id=-1456928&dest_type=city&search_pageview_id=007b7c295a5702a7&search_selected=true'\n",
    "driver = webdriver.Chrome(options=option)\n",
    "driver.get(url)"
   ]
  },
  {
   "cell_type": "markdown",
   "metadata": {},
   "source": [
    "Accept cookies if cookies :"
   ]
  },
  {
   "cell_type": "code",
   "execution_count": 143,
   "metadata": {},
   "outputs": [],
   "source": [
    "try:\n",
    "    driver.find_element(By.ID, 'onetrust-accept-btn-handler').click()\n",
    "except:\n",
    "    print('No cookies on the web page')"
   ]
  },
  {
   "cell_type": "markdown",
   "metadata": {},
   "source": [
    "Hotel's scraping loop :"
   ]
  },
  {
   "cell_type": "code",
   "execution_count": 94,
   "metadata": {},
   "outputs": [],
   "source": [
    "hotels = driver.find_elements(By.CLASS_NAME, 'a23c043802') #liste des 25 hotels de la première page"
   ]
  },
  {
   "cell_type": "code",
   "execution_count": 5,
   "metadata": {},
   "outputs": [
    {
     "data": {
      "text/plain": [
       "selenium.webdriver.remote.webelement.WebElement"
      ]
     },
     "execution_count": 5,
     "metadata": {},
     "output_type": "execute_result"
    }
   ],
   "source": [
    "type(hotels[0])"
   ]
  },
  {
   "cell_type": "code",
   "execution_count": 95,
   "metadata": {},
   "outputs": [],
   "source": [
    "main_page = driver.window_handles[0]"
   ]
  },
  {
   "cell_type": "code",
   "execution_count": 16,
   "metadata": {},
   "outputs": [
    {
     "name": "stdout",
     "output_type": "stream",
     "text": [
      "UCPA SPORT STATION HOSTEL PARIS\n",
      "Hotel Lutetia\n",
      "Hôtel Korner Etoile\n",
      "HotelHome Paris 16\n",
      "Austin's Arts Et Metiers Hotel\n",
      "Hotel Elysees Opera\n",
      "Grand Hôtel Amelot\n",
      "Austin's Saint Lazare Hotel\n",
      "Hôtel Rosalie\n",
      "Hôtel Gérando\n",
      "Hotel de L'Esperance\n",
      "Hotel d'Amiens\n",
      "Le Grey Hotel\n",
      "Hôtel Aiglon\n",
      "Paris-Bastille\n",
      "St Germain - La Monnaie City Apartment\n",
      "142 - Urban Pretty Flat in Montorgueil\n",
      "Appartement pour 4 personnes près du Panthéon\n",
      "Vaugirard - Saint Germain des Prés - Best Place\n",
      "Chambre des pavillons Sud Paris Lhay les roses\n",
      "Emplacement rare - Paris 7 - Bail mobilité\n",
      "Wonderful apartment with balcony at the heart of Paris - Welkeys\n",
      "Home Sweet Home Claridge 1bedroom\n",
      "1 Bedroom apartment in Marais\n",
      "Welcoming 1 Bedroom Apartment in Paris\n"
     ]
    }
   ],
   "source": [
    "for hotel in range(0, len(hotels)):\n",
    "    hotels[hotel].click()\n",
    "    sleep(2)\n",
    "    new_window = driver.window_handles[1]\n",
    "    driver.switch_to.window(new_window)\n",
    "    print(driver.find_element(By.CLASS_NAME, \"pp-header__title\").text) # Mettre code pour scrap données par hotel (Ici récupère nom des hotels)\n",
    "    driver.close()\n",
    "    driver.switch_to.window(main_page)\n",
    "    \"\"\"\n",
    "    driver.switch_to.window(new_window)\n",
    "    print(driver.find_element(By.CLASS_NAME, \"pp-header__title\").text) #1er hotel : Hotel Trinité Haussmann\n",
    "    driver.close()\"\"\""
   ]
  },
  {
   "cell_type": "markdown",
   "metadata": {},
   "source": [
    "Click on next page :"
   ]
  },
  {
   "cell_type": "code",
   "execution_count": 96,
   "metadata": {},
   "outputs": [],
   "source": [
    "def open_hotels(hotels):\n",
    "    for hotel in range(0, len(hotels)):\n",
    "        hotels[hotel].click()\n",
    "        sleep(2)\n",
    "        new_window = driver.window_handles[1]\n",
    "        driver.switch_to.window(new_window)\n",
    "        print(driver.find_element(By.CLASS_NAME, \"pp-header__title\").text) # Mettre code pour scrap données par hotel (Ici récupère nom des hotels)\n",
    "        driver.close()\n",
    "        driver.switch_to.window(main_page)"
   ]
  },
  {
   "cell_type": "markdown",
   "metadata": {},
   "source": [
    "Final Loop :"
   ]
  },
  {
   "cell_type": "code",
   "execution_count": 145,
   "metadata": {},
   "outputs": [
    {
     "name": "stdout",
     "output_type": "stream",
     "text": [
      "Hotel Eden\n",
      "Hotel Lutetia\n"
     ]
    },
    {
     "ename": "KeyboardInterrupt",
     "evalue": "",
     "output_type": "error",
     "traceback": [
      "\u001b[1;31m---------------------------------------------------------------------------\u001b[0m",
      "\u001b[1;31mKeyboardInterrupt\u001b[0m                         Traceback (most recent call last)",
      "\u001b[1;32mc:\\Users\\Ben\\OneDrive - Université de Tours\\Bureau\\pyton_projects\\Booking Hotels Ranking\\ben_scraping.ipynb Cell 15\u001b[0m in \u001b[0;36m<module>\u001b[1;34m\u001b[0m\n\u001b[0;32m      <a href='vscode-notebook-cell:/c%3A/Users/Ben/OneDrive%20-%20Universit%C3%A9%20de%20Tours/Bureau/pyton_projects/Booking%20Hotels%20Ranking/ben_scraping.ipynb#X20sZmlsZQ%3D%3D?line=1'>2</a>\u001b[0m main_page \u001b[39m=\u001b[39m driver\u001b[39m.\u001b[39mwindow_handles[\u001b[39m0\u001b[39m]\n\u001b[0;32m      <a href='vscode-notebook-cell:/c%3A/Users/Ben/OneDrive%20-%20Universit%C3%A9%20de%20Tours/Bureau/pyton_projects/Booking%20Hotels%20Ranking/ben_scraping.ipynb#X20sZmlsZQ%3D%3D?line=2'>3</a>\u001b[0m hotels \u001b[39m=\u001b[39m driver\u001b[39m.\u001b[39mfind_elements(By\u001b[39m.\u001b[39mCLASS_NAME, \u001b[39m'\u001b[39m\u001b[39ma23c043802\u001b[39m\u001b[39m'\u001b[39m)\n\u001b[1;32m----> <a href='vscode-notebook-cell:/c%3A/Users/Ben/OneDrive%20-%20Universit%C3%A9%20de%20Tours/Bureau/pyton_projects/Booking%20Hotels%20Ranking/ben_scraping.ipynb#X20sZmlsZQ%3D%3D?line=3'>4</a>\u001b[0m open_hotels(hotels)\n\u001b[0;32m      <a href='vscode-notebook-cell:/c%3A/Users/Ben/OneDrive%20-%20Universit%C3%A9%20de%20Tours/Bureau/pyton_projects/Booking%20Hotels%20Ranking/ben_scraping.ipynb#X20sZmlsZQ%3D%3D?line=4'>5</a>\u001b[0m driver\u001b[39m.\u001b[39mfind_element(By\u001b[39m.\u001b[39mCSS_SELECTOR, \u001b[39m\"\u001b[39m\u001b[39m[aria-label=\u001b[39m\u001b[39m'\u001b[39m\u001b[39mNext page\u001b[39m\u001b[39m'\u001b[39m\u001b[39m]\u001b[39m\u001b[39m\"\u001b[39m)\u001b[39m.\u001b[39mclick()\n\u001b[0;32m      <a href='vscode-notebook-cell:/c%3A/Users/Ben/OneDrive%20-%20Universit%C3%A9%20de%20Tours/Bureau/pyton_projects/Booking%20Hotels%20Ranking/ben_scraping.ipynb#X20sZmlsZQ%3D%3D?line=5'>6</a>\u001b[0m \u001b[39m#driver.find_element('xpath', '//*[@id=\"search_results_table\"]/div[2]/div/div/div/div[6]/div[2]/nav/div/div[3]/button').click() xpath a changé\u001b[39;00m\n",
      "\u001b[1;32mc:\\Users\\Ben\\OneDrive - Université de Tours\\Bureau\\pyton_projects\\Booking Hotels Ranking\\ben_scraping.ipynb Cell 15\u001b[0m in \u001b[0;36mopen_hotels\u001b[1;34m(hotels)\u001b[0m\n\u001b[0;32m      <a href='vscode-notebook-cell:/c%3A/Users/Ben/OneDrive%20-%20Universit%C3%A9%20de%20Tours/Bureau/pyton_projects/Booking%20Hotels%20Ranking/ben_scraping.ipynb#X20sZmlsZQ%3D%3D?line=1'>2</a>\u001b[0m \u001b[39mfor\u001b[39;00m hotel \u001b[39min\u001b[39;00m \u001b[39mrange\u001b[39m(\u001b[39m0\u001b[39m, \u001b[39mlen\u001b[39m(hotels)):\n\u001b[0;32m      <a href='vscode-notebook-cell:/c%3A/Users/Ben/OneDrive%20-%20Universit%C3%A9%20de%20Tours/Bureau/pyton_projects/Booking%20Hotels%20Ranking/ben_scraping.ipynb#X20sZmlsZQ%3D%3D?line=2'>3</a>\u001b[0m     hotels[hotel]\u001b[39m.\u001b[39mclick()\n\u001b[1;32m----> <a href='vscode-notebook-cell:/c%3A/Users/Ben/OneDrive%20-%20Universit%C3%A9%20de%20Tours/Bureau/pyton_projects/Booking%20Hotels%20Ranking/ben_scraping.ipynb#X20sZmlsZQ%3D%3D?line=3'>4</a>\u001b[0m     sleep(\u001b[39m2\u001b[39;49m)\n\u001b[0;32m      <a href='vscode-notebook-cell:/c%3A/Users/Ben/OneDrive%20-%20Universit%C3%A9%20de%20Tours/Bureau/pyton_projects/Booking%20Hotels%20Ranking/ben_scraping.ipynb#X20sZmlsZQ%3D%3D?line=4'>5</a>\u001b[0m     new_window \u001b[39m=\u001b[39m driver\u001b[39m.\u001b[39mwindow_handles[\u001b[39m1\u001b[39m]\n\u001b[0;32m      <a href='vscode-notebook-cell:/c%3A/Users/Ben/OneDrive%20-%20Universit%C3%A9%20de%20Tours/Bureau/pyton_projects/Booking%20Hotels%20Ranking/ben_scraping.ipynb#X20sZmlsZQ%3D%3D?line=5'>6</a>\u001b[0m     driver\u001b[39m.\u001b[39mswitch_to\u001b[39m.\u001b[39mwindow(new_window)\n",
      "\u001b[1;31mKeyboardInterrupt\u001b[0m: "
     ]
    }
   ],
   "source": [
    "while int(driver.find_element(By.CLASS_NAME, \"cfc6afb67a\").text.split()[-1]) < 1000:\n",
    "    main_page = driver.window_handles[0]\n",
    "    hotels = driver.find_elements(By.CLASS_NAME, 'a23c043802')\n",
    "    open_hotels(hotels)\n",
    "    driver.find_element(By.CSS_SELECTOR, \"[aria-label='Next page']\").click()\n",
    "    #driver.find_element('xpath', '//*[@id=\"search_results_table\"]/div[2]/div/div/div/div[6]/div[2]/nav/div/div[3]/button').click() xpath a changé\n",
    "    sleep(1)"
   ]
  },
  {
   "cell_type": "markdown",
   "metadata": {},
   "source": [
    "### Test fichier .py"
   ]
  },
  {
   "cell_type": "code",
   "execution_count": 10,
   "metadata": {},
   "outputs": [
    {
     "ename": "IndexError",
     "evalue": "list index out of range",
     "output_type": "error",
     "traceback": [
      "\u001b[1;31m---------------------------------------------------------------------------\u001b[0m",
      "\u001b[1;31mIndexError\u001b[0m                                Traceback (most recent call last)",
      "\u001b[1;32mc:\\Users\\Ben\\OneDrive - Université de Tours\\Bureau\\pyton_projects\\Booking Hotels Ranking\\ben_scraping.ipynb Cell 17\u001b[0m in \u001b[0;36m<module>\u001b[1;34m\u001b[0m\n\u001b[0;32m     <a href='vscode-notebook-cell:/c%3A/Users/Ben/OneDrive%20-%20Universit%C3%A9%20de%20Tours/Bureau/pyton_projects/Booking%20Hotels%20Ranking/ben_scraping.ipynb#X22sZmlsZQ%3D%3D?line=48'>49</a>\u001b[0m         driver\u001b[39m.\u001b[39mfind_element(\u001b[39m'\u001b[39m\u001b[39mxpath\u001b[39m\u001b[39m'\u001b[39m, \u001b[39m'\u001b[39m\u001b[39m//*[@id=\u001b[39m\u001b[39m\"\u001b[39m\u001b[39msearch_results_table\u001b[39m\u001b[39m\"\u001b[39m\u001b[39m]/div[2]/div/div/div/div[5]/div[2]/nav/div/div[3]/button\u001b[39m\u001b[39m'\u001b[39m)\u001b[39m.\u001b[39mclick()\n\u001b[0;32m     <a href='vscode-notebook-cell:/c%3A/Users/Ben/OneDrive%20-%20Universit%C3%A9%20de%20Tours/Bureau/pyton_projects/Booking%20Hotels%20Ranking/ben_scraping.ipynb#X22sZmlsZQ%3D%3D?line=49'>50</a>\u001b[0m         sleep(\u001b[39m1\u001b[39m)\n\u001b[1;32m---> <a href='vscode-notebook-cell:/c%3A/Users/Ben/OneDrive%20-%20Universit%C3%A9%20de%20Tours/Bureau/pyton_projects/Booking%20Hotels%20Ranking/ben_scraping.ipynb#X22sZmlsZQ%3D%3D?line=51'>52</a>\u001b[0m scrap_hotels()\n\u001b[0;32m     <a href='vscode-notebook-cell:/c%3A/Users/Ben/OneDrive%20-%20Universit%C3%A9%20de%20Tours/Bureau/pyton_projects/Booking%20Hotels%20Ranking/ben_scraping.ipynb#X22sZmlsZQ%3D%3D?line=53'>54</a>\u001b[0m \u001b[39m\"\"\"def collect_backups(url): Récupère les backups html en appelant la fonction scrap_hotels et les enregistre au format csv.\u001b[39;00m\n\u001b[0;32m     <a href='vscode-notebook-cell:/c%3A/Users/Ben/OneDrive%20-%20Universit%C3%A9%20de%20Tours/Bureau/pyton_projects/Booking%20Hotels%20Ranking/ben_scraping.ipynb#X22sZmlsZQ%3D%3D?line=54'>55</a>\u001b[0m \u001b[39m    \u001b[39;00m\n\u001b[0;32m     <a href='vscode-notebook-cell:/c%3A/Users/Ben/OneDrive%20-%20Universit%C3%A9%20de%20Tours/Bureau/pyton_projects/Booking%20Hotels%20Ranking/ben_scraping.ipynb#X22sZmlsZQ%3D%3D?line=55'>56</a>\u001b[0m \u001b[39m    data = scrap_hotels(destination)\u001b[39;00m\n\u001b[1;32m   (...)\u001b[0m\n\u001b[0;32m     <a href='vscode-notebook-cell:/c%3A/Users/Ben/OneDrive%20-%20Universit%C3%A9%20de%20Tours/Bureau/pyton_projects/Booking%20Hotels%20Ranking/ben_scraping.ipynb#X22sZmlsZQ%3D%3D?line=59'>60</a>\u001b[0m \n\u001b[0;32m     <a href='vscode-notebook-cell:/c%3A/Users/Ben/OneDrive%20-%20Universit%C3%A9%20de%20Tours/Bureau/pyton_projects/Booking%20Hotels%20Ranking/ben_scraping.ipynb#X22sZmlsZQ%3D%3D?line=60'>61</a>\u001b[0m \u001b[39mcollect_backups(url)\"\"\"\u001b[39;00m\n",
      "\u001b[1;32mc:\\Users\\Ben\\OneDrive - Université de Tours\\Bureau\\pyton_projects\\Booking Hotels Ranking\\ben_scraping.ipynb Cell 17\u001b[0m in \u001b[0;36mscrap_hotels\u001b[1;34m()\u001b[0m\n\u001b[0;32m     <a href='vscode-notebook-cell:/c%3A/Users/Ben/OneDrive%20-%20Universit%C3%A9%20de%20Tours/Bureau/pyton_projects/Booking%20Hotels%20Ranking/ben_scraping.ipynb#X22sZmlsZQ%3D%3D?line=43'>44</a>\u001b[0m \u001b[39mexcept\u001b[39;00m:\n\u001b[0;32m     <a href='vscode-notebook-cell:/c%3A/Users/Ben/OneDrive%20-%20Universit%C3%A9%20de%20Tours/Bureau/pyton_projects/Booking%20Hotels%20Ranking/ben_scraping.ipynb#X22sZmlsZQ%3D%3D?line=44'>45</a>\u001b[0m     \u001b[39mprint\u001b[39m(\u001b[39m'\u001b[39m\u001b[39mNo cookies on the web page\u001b[39m\u001b[39m'\u001b[39m)\n\u001b[1;32m---> <a href='vscode-notebook-cell:/c%3A/Users/Ben/OneDrive%20-%20Universit%C3%A9%20de%20Tours/Bureau/pyton_projects/Booking%20Hotels%20Ranking/ben_scraping.ipynb#X22sZmlsZQ%3D%3D?line=45'>46</a>\u001b[0m \u001b[39mwhile\u001b[39;00m \u001b[39mint\u001b[39m(driver\u001b[39m.\u001b[39;49mfind_element(By\u001b[39m.\u001b[39;49mCLASS_NAME, \u001b[39m\"\u001b[39;49m\u001b[39mcfc6afb67a\u001b[39;49m\u001b[39m\"\u001b[39;49m)\u001b[39m.\u001b[39;49mtext\u001b[39m.\u001b[39;49msplit()[\u001b[39m-\u001b[39;49m\u001b[39m1\u001b[39;49m]) \u001b[39m<\u001b[39m \u001b[39m1000\u001b[39m:\n\u001b[0;32m     <a href='vscode-notebook-cell:/c%3A/Users/Ben/OneDrive%20-%20Universit%C3%A9%20de%20Tours/Bureau/pyton_projects/Booking%20Hotels%20Ranking/ben_scraping.ipynb#X22sZmlsZQ%3D%3D?line=46'>47</a>\u001b[0m     hotels \u001b[39m=\u001b[39m driver\u001b[39m.\u001b[39mfind_elements(By\u001b[39m.\u001b[39mCLASS_NAME, \u001b[39m'\u001b[39m\u001b[39ma23c043802\u001b[39m\u001b[39m'\u001b[39m)\n\u001b[0;32m     <a href='vscode-notebook-cell:/c%3A/Users/Ben/OneDrive%20-%20Universit%C3%A9%20de%20Tours/Bureau/pyton_projects/Booking%20Hotels%20Ranking/ben_scraping.ipynb#X22sZmlsZQ%3D%3D?line=47'>48</a>\u001b[0m     open_hotels(hotels)\n",
      "\u001b[1;31mIndexError\u001b[0m: list index out of range"
     ]
    }
   ],
   "source": [
    "\"\"\"Description.\n",
    "\n",
    "Librairie pour récupérer les backups html des hotels du site de Booking d'une ville donnée.\n",
    "\"\"\"\n",
    "\n",
    "\n",
    "from selenium import webdriver\n",
    "from selenium.webdriver.common.by import By\n",
    "from time import sleep\n",
    "from requests import get\n",
    "from bs4 import BeautifulSoup\n",
    "import pandas as pd\n",
    "\n",
    "\n",
    "url = 'https://www.booking.com/searchresults.en-gb.html?label=gen173nr-1FCAMoTTjjAkgJWARoTYgBAZgBCbgBF8gBDNgBAegBAfgBA4gCAagCA7gC7IOlmwbAAgHSAiQyZjdmNDc2OS00Yjg5LTRjNjItOWE3Yi0wNTQ2YzkwOTljNmLYAgXgAgE&lang=en-gb&sid=d98fb0657b85147a603aa5741b87a9c7&sb=1&sb_lp=1&src=index&src_elem=sb&error_url=https%3A%2F%2Fwww.booking.com%2Findex.en-gb.html%3Flabel%3Dgen173nr-1FCAMoTTjjAkgJWARoTYgBAZgBCbgBF8gBDNgBAegBAfgBA4gCAagCA7gC7IOlmwbAAgHSAiQyZjdmNDc2OS00Yjg5LTRjNjItOWE3Yi0wNTQ2YzkwOTljNmLYAgXgAgE%26sid%3Dd98fb0657b85147a603aa5741b87a9c7%26sb_price_type%3Dtotal%26%26&ss=Paris%2C+France&is_ski_area=&ssne=Lyon&ssne_untouched=Lyon&checkin_year=&checkin_month=&checkout_year=&checkout_month=&efdco=1&group_adults=2&group_children=0&no_rooms=1&b_h4u_keep_filters=&from_sf=1&dest_id=-1456928&dest_type=city&search_pageview_id=007b7c295a5702a7&search_selected=true'\n",
    "driver = webdriver.Chrome()\n",
    "driver.get(url)\n",
    "\n",
    "destination = 'Paris'  # \n",
    "main_page = driver.window_handles[0]\n",
    "\n",
    "def open_hotels(hotels):\n",
    "    \"\"\"Récupère les backups html des hotels d'une page.\"\"\"\n",
    "    for hotel in range(0, len(hotels)):\n",
    "        hotels[hotel].click()\n",
    "        sleep(2)\n",
    "        new_window = driver.window_handles[1]\n",
    "        driver.switch_to.window(new_window)\n",
    "        name = driver.find_element(By.CLASS_NAME, \"pp-header__title\").text\n",
    "        print(name) # Mettre code pour scrap données par hotel (Ici récupère nom des hotels)\n",
    "        request = get(driver.current_url)\n",
    "        soupe = BeautifulSoup(request.text, features = 'lxml')\n",
    "        grade = soupe.find(class_ = \"b5cd09854e d10a6220b4\").text\n",
    "        print(grade)\n",
    "        rating_stars = len(soupe.find_all(class_ = \"b6dc9a9e69 adc357e4f1 fe621d6382\"))\n",
    "        print(rating_stars)\n",
    "        driver.close()\n",
    "        driver.switch_to.window(main_page)\n",
    "\n",
    "def scrap_hotels():\n",
    "    \"\"\"Permet de naviguer sur l'ensemble des pages et d'en récupérer les backups avec la fonction open_hotels.\"\"\"\n",
    "    try:\n",
    "        driver.find_element(By.ID, 'onetrust-accept-btn-handler').click()\n",
    "    except:\n",
    "        print('No cookies on the web page')\n",
    "    while int(driver.find_element(By.CLASS_NAME, \"cfc6afb67a\").text.split()[-1]) < 1000:\n",
    "        hotels = driver.find_elements(By.CLASS_NAME, 'a23c043802')\n",
    "        open_hotels(hotels)\n",
    "        driver.find_element('xpath', '//*[@id=\"search_results_table\"]/div[2]/div/div/div/div[5]/div[2]/nav/div/div[3]/button').click()\n",
    "        sleep(1)\n",
    "        \n",
    "scrap_hotels()\n",
    "\n",
    "\"\"\"def collect_backups(url): Récupère les backups html en appelant la fonction scrap_hotels et les enregistre au format csv.\n",
    "    \n",
    "    data = scrap_hotels(destination)\n",
    "    df = pd.DataFrame(data)\n",
    "    df.to_csv(f'hotels_booking_'+destination+'.csv')\n",
    "    return df\n",
    "\n",
    "collect_backups(url)\"\"\"\n"
   ]
  }
 ],
 "metadata": {
  "kernelspec": {
   "display_name": "Python 3.10.0 64-bit",
   "language": "python",
   "name": "python3"
  },
  "language_info": {
   "codemirror_mode": {
    "name": "ipython",
    "version": 3
   },
   "file_extension": ".py",
   "mimetype": "text/x-python",
   "name": "python",
   "nbconvert_exporter": "python",
   "pygments_lexer": "ipython3",
   "version": "3.10.0"
  },
  "orig_nbformat": 4,
  "vscode": {
   "interpreter": {
    "hash": "e192c477015e0c8e4427e2a21fcada2aaf43102079abc726728a52ed32b2764a"
   }
  }
 },
 "nbformat": 4,
 "nbformat_minor": 2
}
