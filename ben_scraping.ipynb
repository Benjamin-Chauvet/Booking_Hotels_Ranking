{
 "cells": [
  {
   "cell_type": "markdown",
   "metadata": {},
   "source": [
    "# Loop to manage windows"
   ]
  },
  {
   "cell_type": "code",
   "execution_count": 1,
   "metadata": {},
   "outputs": [],
   "source": [
    "from selenium import webdriver\n",
    "from selenium.webdriver.common.by import By\n",
    "from time import sleep"
   ]
  },
  {
   "cell_type": "markdown",
   "metadata": {},
   "source": [
    "Driver settings :"
   ]
  },
  {
   "cell_type": "code",
   "execution_count": 187,
   "metadata": {},
   "outputs": [],
   "source": [
    "url = 'https://www.booking.com/searchresults.en-gb.html?label=gen173nr-1FCAMoTTjjAkgJWARoTYgBAZgBCbgBF8gBDNgBAegBAfgBA4gCAagCA7gC7IOlmwbAAgHSAiQyZjdmNDc2OS00Yjg5LTRjNjItOWE3Yi0wNTQ2YzkwOTljNmLYAgXgAgE&lang=en-gb&sid=d98fb0657b85147a603aa5741b87a9c7&sb=1&sb_lp=1&src=index&src_elem=sb&error_url=https%3A%2F%2Fwww.booking.com%2Findex.en-gb.html%3Flabel%3Dgen173nr-1FCAMoTTjjAkgJWARoTYgBAZgBCbgBF8gBDNgBAegBAfgBA4gCAagCA7gC7IOlmwbAAgHSAiQyZjdmNDc2OS00Yjg5LTRjNjItOWE3Yi0wNTQ2YzkwOTljNmLYAgXgAgE%26sid%3Dd98fb0657b85147a603aa5741b87a9c7%26sb_price_type%3Dtotal%26%26&ss=Paris%2C+France&is_ski_area=&ssne=Lyon&ssne_untouched=Lyon&checkin_year=&checkin_month=&checkout_year=&checkout_month=&efdco=1&group_adults=2&group_children=0&no_rooms=1&b_h4u_keep_filters=&from_sf=1&dest_id=-1456928&dest_type=city&search_pageview_id=007b7c295a5702a7&search_selected=true'\n",
    "driver = webdriver.Chrome()\n",
    "driver.get(url)"
   ]
  },
  {
   "cell_type": "markdown",
   "metadata": {},
   "source": [
    "Accept cookies if cookies :"
   ]
  },
  {
   "cell_type": "code",
   "execution_count": 188,
   "metadata": {},
   "outputs": [],
   "source": [
    "try:\n",
    "    driver.find_element(By.ID, 'onetrust-accept-btn-handler').click()\n",
    "except:\n",
    "    print('No cookies on the web page')"
   ]
  },
  {
   "cell_type": "markdown",
   "metadata": {},
   "source": [
    "Hotel's scraping loop :"
   ]
  },
  {
   "cell_type": "code",
   "execution_count": 189,
   "metadata": {},
   "outputs": [],
   "source": [
    "hotels = driver.find_elements(By.CLASS_NAME, 'a23c043802') #liste des 25 hotels de la première page"
   ]
  },
  {
   "cell_type": "code",
   "execution_count": 91,
   "metadata": {},
   "outputs": [
    {
     "ename": "AttributeError",
     "evalue": "'int' object has no attribute 'click'",
     "output_type": "error",
     "traceback": [
      "\u001b[1;31m---------------------------------------------------------------------------\u001b[0m",
      "\u001b[1;31mAttributeError\u001b[0m                            Traceback (most recent call last)",
      "\u001b[1;32mc:\\Users\\Ben\\OneDrive - Université de Tours\\Bureau\\M2 - 2022-2023\\Machine Learning\\Projet Scraping\\Projet final\\Booking_Hotels_Ranking\\ben_scraping.ipynb Cell 20\u001b[0m in \u001b[0;36m<module>\u001b[1;34m\u001b[0m\n\u001b[0;32m      <a href='vscode-notebook-cell:/c%3A/Users/Ben/OneDrive%20-%20Universit%C3%A9%20de%20Tours/Bureau/M2%20-%202022-2023/Machine%20Learning/Projet%20Scraping/Projet%20final/Booking_Hotels_Ranking/ben_scraping.ipynb#X35sZmlsZQ%3D%3D?line=0'>1</a>\u001b[0m \u001b[39mfor\u001b[39;00m i \u001b[39min\u001b[39;00m \u001b[39mrange\u001b[39m(\u001b[39m0\u001b[39m, \u001b[39mlen\u001b[39m(hotels)):\n\u001b[1;32m----> <a href='vscode-notebook-cell:/c%3A/Users/Ben/OneDrive%20-%20Universit%C3%A9%20de%20Tours/Bureau/M2%20-%202022-2023/Machine%20Learning/Projet%20Scraping/Projet%20final/Booking_Hotels_Ranking/ben_scraping.ipynb#X35sZmlsZQ%3D%3D?line=1'>2</a>\u001b[0m     hotel\u001b[39m.\u001b[39;49mclick(i)\n\u001b[0;32m      <a href='vscode-notebook-cell:/c%3A/Users/Ben/OneDrive%20-%20Universit%C3%A9%20de%20Tours/Bureau/M2%20-%202022-2023/Machine%20Learning/Projet%20Scraping/Projet%20final/Booking_Hotels_Ranking/ben_scraping.ipynb#X35sZmlsZQ%3D%3D?line=2'>3</a>\u001b[0m     driver\u001b[39m.\u001b[39mswitch_to\u001b[39m.\u001b[39mwindow(driver\u001b[39m.\u001b[39mwindow_handles[\u001b[39m1\u001b[39m])\n\u001b[0;32m      <a href='vscode-notebook-cell:/c%3A/Users/Ben/OneDrive%20-%20Universit%C3%A9%20de%20Tours/Bureau/M2%20-%202022-2023/Machine%20Learning/Projet%20Scraping/Projet%20final/Booking_Hotels_Ranking/ben_scraping.ipynb#X35sZmlsZQ%3D%3D?line=3'>4</a>\u001b[0m     driver\u001b[39m.\u001b[39mfind_element(By\u001b[39m.\u001b[39mCLASS_NAME, \u001b[39m\"\u001b[39m\u001b[39ma23c043802\u001b[39m\u001b[39m\"\u001b[39m)\u001b[39m.\u001b[39mclick()\n",
      "\u001b[1;31mAttributeError\u001b[0m: 'int' object has no attribute 'click'"
     ]
    }
   ],
   "source": [
    "\"\"\"for hotel in hotels:\n",
    "    hotels[hotel].click()\n",
    "    driver.switch_to.window(driver.window_handles[1])\n",
    "    print(driver.find_element(By.CLASS_NAME, \"pp-header__title\").text)\n",
    "    driver.close()\n",
    "    \"\"\""
   ]
  },
  {
   "cell_type": "code",
   "execution_count": 170,
   "metadata": {},
   "outputs": [],
   "source": [
    "for i in range(0, len(hotels)):\n",
    "    hotels[i].click()"
   ]
  },
  {
   "cell_type": "code",
   "execution_count": 171,
   "metadata": {},
   "outputs": [],
   "source": [
    "main_page = driver.window_handles[0]"
   ]
  },
  {
   "cell_type": "code",
   "execution_count": 172,
   "metadata": {},
   "outputs": [],
   "source": [
    "driver.switch_to.window(main_page)"
   ]
  },
  {
   "cell_type": "code",
   "execution_count": 173,
   "metadata": {},
   "outputs": [
    {
     "name": "stdout",
     "output_type": "stream",
     "text": [
      "HotelHome Paris 16\n",
      "Hôtel Gérando\n",
      "Tiquetonne\n",
      "Pullman Paris Montparnasse\n",
      "Hotel Mogador\n",
      "Hôtel Aiglon\n",
      "HolidaysInParis-Bourg Tibourg II\n",
      "Austin's Arts Et Metiers Hotel\n",
      "Hotel d'Amiens\n",
      "Hotel Elysees Opera\n",
      "UCPA SPORT STATION HOSTEL PARIS\n",
      "Chic Apartments Opera\n",
      "Hôtel Bellevue et du Chariot d'Or\n"
     ]
    },
    {
     "ename": "IndexError",
     "evalue": "list index out of range",
     "output_type": "error",
     "traceback": [
      "\u001b[1;31m---------------------------------------------------------------------------\u001b[0m",
      "\u001b[1;31mIndexError\u001b[0m                                Traceback (most recent call last)",
      "\u001b[1;32mc:\\Users\\Ben\\OneDrive - Université de Tours\\Bureau\\M2 - 2022-2023\\Machine Learning\\Projet Scraping\\Projet final\\Booking_Hotels_Ranking\\ben_scraping.ipynb Cell 21\u001b[0m in \u001b[0;36m<module>\u001b[1;34m\u001b[0m\n\u001b[0;32m      <a href='vscode-notebook-cell:/c%3A/Users/Ben/OneDrive%20-%20Universit%C3%A9%20de%20Tours/Bureau/M2%20-%202022-2023/Machine%20Learning/Projet%20Scraping/Projet%20final/Booking_Hotels_Ranking/ben_scraping.ipynb#X41sZmlsZQ%3D%3D?line=0'>1</a>\u001b[0m \u001b[39mfor\u001b[39;00m j \u001b[39min\u001b[39;00m \u001b[39mrange\u001b[39m(\u001b[39m1\u001b[39m, \u001b[39mlen\u001b[39m(hotels)\u001b[39m+\u001b[39m\u001b[39m1\u001b[39m):\n\u001b[1;32m----> <a href='vscode-notebook-cell:/c%3A/Users/Ben/OneDrive%20-%20Universit%C3%A9%20de%20Tours/Bureau/M2%20-%202022-2023/Machine%20Learning/Projet%20Scraping/Projet%20final/Booking_Hotels_Ranking/ben_scraping.ipynb#X41sZmlsZQ%3D%3D?line=1'>2</a>\u001b[0m     new_window \u001b[39m=\u001b[39m driver\u001b[39m.\u001b[39;49mwindow_handles[j]\n\u001b[0;32m      <a href='vscode-notebook-cell:/c%3A/Users/Ben/OneDrive%20-%20Universit%C3%A9%20de%20Tours/Bureau/M2%20-%202022-2023/Machine%20Learning/Projet%20Scraping/Projet%20final/Booking_Hotels_Ranking/ben_scraping.ipynb#X41sZmlsZQ%3D%3D?line=2'>3</a>\u001b[0m     driver\u001b[39m.\u001b[39mswitch_to\u001b[39m.\u001b[39mwindow(new_window)\n\u001b[0;32m      <a href='vscode-notebook-cell:/c%3A/Users/Ben/OneDrive%20-%20Universit%C3%A9%20de%20Tours/Bureau/M2%20-%202022-2023/Machine%20Learning/Projet%20Scraping/Projet%20final/Booking_Hotels_Ranking/ben_scraping.ipynb#X41sZmlsZQ%3D%3D?line=3'>4</a>\u001b[0m     \u001b[39mprint\u001b[39m(driver\u001b[39m.\u001b[39mfind_element(By\u001b[39m.\u001b[39mCLASS_NAME, \u001b[39m\"\u001b[39m\u001b[39mpp-header__title\u001b[39m\u001b[39m\"\u001b[39m)\u001b[39m.\u001b[39mtext) \u001b[39m#1er hotel : Hotel Trinité Haussmann\u001b[39;00m\n",
      "\u001b[1;31mIndexError\u001b[0m: list index out of range"
     ]
    }
   ],
   "source": [
    "for j in range(1, len(hotels)+1):\n",
    "    new_window = driver.window_handles[j]\n",
    "    driver.switch_to.window(new_window)\n",
    "    print(driver.find_element(By.CLASS_NAME, \"pp-header__title\").text) #1er hotel : Hotel Trinité Haussmann\n",
    "    driver.close()"
   ]
  },
  {
   "cell_type": "code",
   "execution_count": 191,
   "metadata": {},
   "outputs": [
    {
     "ename": "NoSuchWindowException",
     "evalue": "Message: no such window: target window already closed\nfrom unknown error: web view not found\n  (Session info: chrome=107.0.5304.107)\nStacktrace:\nBacktrace:\n\tOrdinal0 [0x00A1ACD3+2075859]\n\tOrdinal0 [0x009AEE61+1633889]\n\tOrdinal0 [0x008AB7BD+571325]\n\tOrdinal0 [0x00892E1A+470554]\n\tOrdinal0 [0x008FAA0B+895499]\n\tOrdinal0 [0x0090AC96+961686]\n\tOrdinal0 [0x008F7136+880950]\n\tOrdinal0 [0x008CFEFD+720637]\n\tOrdinal0 [0x008D0F3F+724799]\n\tGetHandleVerifier [0x00CCEED2+2769538]\n\tGetHandleVerifier [0x00CC0D95+2711877]\n\tGetHandleVerifier [0x00AAA03A+521194]\n\tGetHandleVerifier [0x00AA8DA0+516432]\n\tOrdinal0 [0x009B682C+1665068]\n\tOrdinal0 [0x009BB128+1683752]\n\tOrdinal0 [0x009BB215+1683989]\n\tOrdinal0 [0x009C6484+1729668]\n\tBaseThreadInitThunk [0x7568FEF9+25]\n\tRtlGetAppContainerNamedObjectPath [0x77127BBE+286]\n\tRtlGetAppContainerNamedObjectPath [0x77127B8E+238]\n",
     "output_type": "error",
     "traceback": [
      "\u001b[1;31m---------------------------------------------------------------------------\u001b[0m",
      "\u001b[1;31mNoSuchWindowException\u001b[0m                     Traceback (most recent call last)",
      "\u001b[1;32mc:\\Users\\Ben\\OneDrive - Université de Tours\\Bureau\\M2 - 2022-2023\\Machine Learning\\Projet Scraping\\Projet final\\Booking_Hotels_Ranking\\ben_scraping.ipynb Cell 13\u001b[0m in \u001b[0;36m<module>\u001b[1;34m\u001b[0m\n\u001b[0;32m      <a href='vscode-notebook-cell:/c%3A/Users/Ben/OneDrive%20-%20Universit%C3%A9%20de%20Tours/Bureau/M2%20-%202022-2023/Machine%20Learning/Projet%20Scraping/Projet%20final/Booking_Hotels_Ranking/ben_scraping.ipynb#X21sZmlsZQ%3D%3D?line=0'>1</a>\u001b[0m \u001b[39mfor\u001b[39;00m i \u001b[39min\u001b[39;00m \u001b[39mrange\u001b[39m(\u001b[39m0\u001b[39m, \u001b[39mlen\u001b[39m(hotels)):\n\u001b[1;32m----> <a href='vscode-notebook-cell:/c%3A/Users/Ben/OneDrive%20-%20Universit%C3%A9%20de%20Tours/Bureau/M2%20-%202022-2023/Machine%20Learning/Projet%20Scraping/Projet%20final/Booking_Hotels_Ranking/ben_scraping.ipynb#X21sZmlsZQ%3D%3D?line=1'>2</a>\u001b[0m     hotels[i]\u001b[39m.\u001b[39;49mclick()\n\u001b[0;32m      <a href='vscode-notebook-cell:/c%3A/Users/Ben/OneDrive%20-%20Universit%C3%A9%20de%20Tours/Bureau/M2%20-%202022-2023/Machine%20Learning/Projet%20Scraping/Projet%20final/Booking_Hotels_Ranking/ben_scraping.ipynb#X21sZmlsZQ%3D%3D?line=2'>3</a>\u001b[0m     sleep(\u001b[39m2\u001b[39m)\n\u001b[0;32m      <a href='vscode-notebook-cell:/c%3A/Users/Ben/OneDrive%20-%20Universit%C3%A9%20de%20Tours/Bureau/M2%20-%202022-2023/Machine%20Learning/Projet%20Scraping/Projet%20final/Booking_Hotels_Ranking/ben_scraping.ipynb#X21sZmlsZQ%3D%3D?line=3'>4</a>\u001b[0m     new_window \u001b[39m=\u001b[39m driver\u001b[39m.\u001b[39mwindow_handles[\u001b[39m1\u001b[39m]\n",
      "File \u001b[1;32mc:\\Users\\Ben\\AppData\\Local\\Programs\\Python\\Python310\\lib\\site-packages\\selenium\\webdriver\\remote\\webelement.py:93\u001b[0m, in \u001b[0;36mWebElement.click\u001b[1;34m(self)\u001b[0m\n\u001b[0;32m     91\u001b[0m \u001b[39mdef\u001b[39;00m \u001b[39mclick\u001b[39m(\u001b[39mself\u001b[39m) \u001b[39m-\u001b[39m\u001b[39m>\u001b[39m \u001b[39mNone\u001b[39;00m:\n\u001b[0;32m     92\u001b[0m     \u001b[39m\"\"\"Clicks the element.\"\"\"\u001b[39;00m\n\u001b[1;32m---> 93\u001b[0m     \u001b[39mself\u001b[39;49m\u001b[39m.\u001b[39;49m_execute(Command\u001b[39m.\u001b[39;49mCLICK_ELEMENT)\n",
      "File \u001b[1;32mc:\\Users\\Ben\\AppData\\Local\\Programs\\Python\\Python310\\lib\\site-packages\\selenium\\webdriver\\remote\\webelement.py:410\u001b[0m, in \u001b[0;36mWebElement._execute\u001b[1;34m(self, command, params)\u001b[0m\n\u001b[0;32m    408\u001b[0m     params \u001b[39m=\u001b[39m {}\n\u001b[0;32m    409\u001b[0m params[\u001b[39m\"\u001b[39m\u001b[39mid\u001b[39m\u001b[39m\"\u001b[39m] \u001b[39m=\u001b[39m \u001b[39mself\u001b[39m\u001b[39m.\u001b[39m_id\n\u001b[1;32m--> 410\u001b[0m \u001b[39mreturn\u001b[39;00m \u001b[39mself\u001b[39;49m\u001b[39m.\u001b[39;49m_parent\u001b[39m.\u001b[39;49mexecute(command, params)\n",
      "File \u001b[1;32mc:\\Users\\Ben\\AppData\\Local\\Programs\\Python\\Python310\\lib\\site-packages\\selenium\\webdriver\\remote\\webdriver.py:444\u001b[0m, in \u001b[0;36mWebDriver.execute\u001b[1;34m(self, driver_command, params)\u001b[0m\n\u001b[0;32m    442\u001b[0m response \u001b[39m=\u001b[39m \u001b[39mself\u001b[39m\u001b[39m.\u001b[39mcommand_executor\u001b[39m.\u001b[39mexecute(driver_command, params)\n\u001b[0;32m    443\u001b[0m \u001b[39mif\u001b[39;00m response:\n\u001b[1;32m--> 444\u001b[0m     \u001b[39mself\u001b[39;49m\u001b[39m.\u001b[39;49merror_handler\u001b[39m.\u001b[39;49mcheck_response(response)\n\u001b[0;32m    445\u001b[0m     response[\u001b[39m\"\u001b[39m\u001b[39mvalue\u001b[39m\u001b[39m\"\u001b[39m] \u001b[39m=\u001b[39m \u001b[39mself\u001b[39m\u001b[39m.\u001b[39m_unwrap_value(response\u001b[39m.\u001b[39mget(\u001b[39m\"\u001b[39m\u001b[39mvalue\u001b[39m\u001b[39m\"\u001b[39m, \u001b[39mNone\u001b[39;00m))\n\u001b[0;32m    446\u001b[0m     \u001b[39mreturn\u001b[39;00m response\n",
      "File \u001b[1;32mc:\\Users\\Ben\\AppData\\Local\\Programs\\Python\\Python310\\lib\\site-packages\\selenium\\webdriver\\remote\\errorhandler.py:249\u001b[0m, in \u001b[0;36mErrorHandler.check_response\u001b[1;34m(self, response)\u001b[0m\n\u001b[0;32m    247\u001b[0m         alert_text \u001b[39m=\u001b[39m value[\u001b[39m\"\u001b[39m\u001b[39malert\u001b[39m\u001b[39m\"\u001b[39m]\u001b[39m.\u001b[39mget(\u001b[39m\"\u001b[39m\u001b[39mtext\u001b[39m\u001b[39m\"\u001b[39m)\n\u001b[0;32m    248\u001b[0m     \u001b[39mraise\u001b[39;00m exception_class(message, screen, stacktrace, alert_text)  \u001b[39m# type: ignore[call-arg]  # mypy is not smart enough here\u001b[39;00m\n\u001b[1;32m--> 249\u001b[0m \u001b[39mraise\u001b[39;00m exception_class(message, screen, stacktrace)\n",
      "\u001b[1;31mNoSuchWindowException\u001b[0m: Message: no such window: target window already closed\nfrom unknown error: web view not found\n  (Session info: chrome=107.0.5304.107)\nStacktrace:\nBacktrace:\n\tOrdinal0 [0x00A1ACD3+2075859]\n\tOrdinal0 [0x009AEE61+1633889]\n\tOrdinal0 [0x008AB7BD+571325]\n\tOrdinal0 [0x00892E1A+470554]\n\tOrdinal0 [0x008FAA0B+895499]\n\tOrdinal0 [0x0090AC96+961686]\n\tOrdinal0 [0x008F7136+880950]\n\tOrdinal0 [0x008CFEFD+720637]\n\tOrdinal0 [0x008D0F3F+724799]\n\tGetHandleVerifier [0x00CCEED2+2769538]\n\tGetHandleVerifier [0x00CC0D95+2711877]\n\tGetHandleVerifier [0x00AAA03A+521194]\n\tGetHandleVerifier [0x00AA8DA0+516432]\n\tOrdinal0 [0x009B682C+1665068]\n\tOrdinal0 [0x009BB128+1683752]\n\tOrdinal0 [0x009BB215+1683989]\n\tOrdinal0 [0x009C6484+1729668]\n\tBaseThreadInitThunk [0x7568FEF9+25]\n\tRtlGetAppContainerNamedObjectPath [0x77127BBE+286]\n\tRtlGetAppContainerNamedObjectPath [0x77127B8E+238]\n"
     ]
    }
   ],
   "source": [
    "for i in range(0, len(hotels)):\n",
    "    hotels[i].click()\n",
    "    sleep(2)\n",
    "    new_window = driver.window_handles[1]\n",
    "    driver.switch_to.window(new_window)\n",
    "    print(driver.find_element(By.CLASS_NAME, \"pp-header__title\").text) #1er hotel : Hotel Trinité Haussmann\n",
    "    driver.close()\n",
    "    #driver.switch_to.window(driver.window_handles[1])\n",
    "    \"\"\"main_page = driver.window_handles[0]\n",
    "    new_window = driver.window_handles[1]\n",
    "    driver.switch_to.window(new_window)\n",
    "    driver.find_element(By.CLASS_NAME, \"pp-header__title\").text #1er hotel : Hotel Trinité Haussmann\n",
    "    driver.close()\"\"\""
   ]
  }
 ],
 "metadata": {
  "kernelspec": {
   "display_name": "Python 3.10.0 64-bit",
   "language": "python",
   "name": "python3"
  },
  "language_info": {
   "codemirror_mode": {
    "name": "ipython",
    "version": 3
   },
   "file_extension": ".py",
   "mimetype": "text/x-python",
   "name": "python",
   "nbconvert_exporter": "python",
   "pygments_lexer": "ipython3",
   "version": "3.10.0"
  },
  "orig_nbformat": 4,
  "vscode": {
   "interpreter": {
    "hash": "e192c477015e0c8e4427e2a21fcada2aaf43102079abc726728a52ed32b2764a"
   }
  }
 },
 "nbformat": 4,
 "nbformat_minor": 2
}
