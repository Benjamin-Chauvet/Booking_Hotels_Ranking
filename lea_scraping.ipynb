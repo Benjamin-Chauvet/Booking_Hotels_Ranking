{
 "cells": [
  {
   "cell_type": "code",
   "execution_count": 1,
   "metadata": {},
   "outputs": [],
   "source": [
    "from requests import get\n",
    "from bs4 import BeautifulSoup"
   ]
  },
  {
   "cell_type": "code",
   "execution_count": 2,
   "metadata": {},
   "outputs": [],
   "source": [
    "requete = get('https://www.booking.com/hotel/fr/austin-s-arts-et-metiers.en-gb.html?aid=304142&label=gen173nr-1FCAEoggI46AdIM1gEaE2IAQGYAQm4ARfIAQzYAQHoAQH4AQuIAgGoAgO4AvnMyZsGwAIB0gIkNTcwZTYyNjktNTZjMy00YTBjLTk5YjctMmVlZDA5OGEzNzFh2AIG4AIB&sid=7ba9f340e388bcc1c3db52ff34b02dd7&all_sr_blocks=24344202_356744597_2_2_0;checkin=2022-11-26;checkout=2022-11-27;dest_id=-1456928;dest_type=city;dist=0;group_adults=2;group_children=0;hapos=2;highlighted_blocks=24344202_356744597_2_2_0;hpos=2;matching_block_id=24344202_356744597_2_2_0;no_rooms=1;req_adults=2;req_children=0;room1=A%2CA;sb_price_type=total;sr_order=popularity;sr_pri_blocks=24344202_356744597_2_2_0__28936;srepoch=1668441731;srpvid=c65070c0d1a70164;type=total;ucfs=1&#hotelTmpl')\n",
    "if requete.status_code == 200:\n",
    "    soupe = BeautifulSoup(requete.text, features = 'lxml')"
   ]
  },
  {
   "cell_type": "code",
   "execution_count": 6,
   "metadata": {},
   "outputs": [
    {
     "name": "stdout",
     "output_type": "stream",
     "text": [
      "Austin's Arts Et Metiers Hotel\n"
     ]
    }
   ],
   "source": [
    "names = soupe.find_all(class_ = \"d2fee87262 pp-header__title\")\n",
    "for name in names:\n",
    "    print(name.text)"
   ]
  },
  {
   "cell_type": "code",
   "execution_count": 8,
   "metadata": {},
   "outputs": [
    {
     "name": "stdout",
     "output_type": "stream",
     "text": [
      "\n",
      "6 Rue Montgolfier, 3rd arr., 75003 Paris, France\n",
      "\n"
     ]
    }
   ],
   "source": [
    "adresses = soupe.find_all(class_ = \"hp_address_subtitle js-hp_address_subtitle jq_tooltip\")\n",
    "for adresse in adresses:\n",
    "    print(adresse.text)"
   ]
  },
  {
   "cell_type": "code",
   "execution_count": 22,
   "metadata": {},
   "outputs": [],
   "source": [
    "room_names = soupe.find_all(class_ = \"hprt-roomtype-icon-link\")\n",
    "for room_name in room_names:\n",
    "    print(room_name.text)"
   ]
  },
  {
   "cell_type": "code",
   "execution_count": 24,
   "metadata": {},
   "outputs": [],
   "source": [
    "prices = soupe.find_all(class_ = \"prco-wrapper bui-price-display prco-sr-default-assembly-wrapper \")\n",
    "for price in prices:\n",
    "    print(price.text)"
   ]
  },
  {
   "cell_type": "code",
   "execution_count": null,
   "metadata": {},
   "outputs": [],
   "source": []
  }
 ],
 "metadata": {
  "kernelspec": {
   "display_name": "Python 3.10.6 64-bit",
   "language": "python",
   "name": "python3"
  },
  "language_info": {
   "codemirror_mode": {
    "name": "ipython",
    "version": 3
   },
   "file_extension": ".py",
   "mimetype": "text/x-python",
   "name": "python",
   "nbconvert_exporter": "python",
   "pygments_lexer": "ipython3",
   "version": "3.10.6"
  },
  "orig_nbformat": 4,
  "vscode": {
   "interpreter": {
    "hash": "153f4edbb71d8d4b8d7bfcd92ca00b08465c7cc0656d16dcadfed15145bbacdd"
   }
  }
 },
 "nbformat": 4,
 "nbformat_minor": 2
}
