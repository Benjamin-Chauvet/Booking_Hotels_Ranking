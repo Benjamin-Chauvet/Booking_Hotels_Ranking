{
 "cells": [
  {
   "cell_type": "code",
   "execution_count": 54,
   "metadata": {},
   "outputs": [],
   "source": [
    "from selenium import webdriver\n",
    "from selenium.webdriver.common.by import By\n",
    "from time import sleep\n",
    "from requests import get\n",
    "from bs4 import BeautifulSoup"
   ]
  },
  {
   "cell_type": "code",
   "execution_count": 55,
   "metadata": {},
   "outputs": [
    {
     "name": "stderr",
     "output_type": "stream",
     "text": [
      "C:\\Users\\lele1\\AppData\\Local\\Temp\\ipykernel_16840\\3760048245.py:1: DeprecationWarning: executable_path has been deprecated, please pass in a Service object\n",
      "  driver = webdriver.Chrome(executable_path=r'C:\\Users\\lele1\\OneDrive - Université de Tours\\M2\\Machine Learning\\chromedriver.exe')\n"
     ]
    }
   ],
   "source": [
    "driver = webdriver.Chrome(executable_path=r'C:\\Users\\lele1\\OneDrive - Université de Tours\\M2\\Machine Learning\\chromedriver.exe')\n",
    "driver.get('https://www.booking.com/index.en-gb.html?label=gen173nr-1FCAEoggI46AdIM1gEaE2IAQGYAQ24ARfIAQzYAQHoAQH4AQuIAgGoAgO4AoHlmJwGwAIB0gIkMDJiY2Y1NmItNTE4MC00OTljLWI1ZjQtODZlOWU5MGFlOTU42AIG4AIB&sid=7ba9f340e388bcc1c3db52ff34b02dd7&lang=en-gb&sb_price_type=total&soz=1&lang_click=other&cdl=fr&lang_changed=1')"
   ]
  },
  {
   "cell_type": "code",
   "execution_count": 56,
   "metadata": {},
   "outputs": [],
   "source": [
    "driver.find_element(By.ID, 'onetrust-accept-btn-handler').click()\n"
   ]
  },
  {
   "cell_type": "code",
   "execution_count": 57,
   "metadata": {},
   "outputs": [],
   "source": [
    "search_bar = driver.find_element(By.CLASS_NAME, \"sb-destination-label-sr\")\n",
    "search_bar.send_keys('Paris')"
   ]
  },
  {
   "cell_type": "code",
   "execution_count": 58,
   "metadata": {},
   "outputs": [],
   "source": [
    "open_calendar = driver.find_element(By.CLASS_NAME, \"xp__dates-inner\")\n",
    "open_calendar.click()"
   ]
  },
  {
   "cell_type": "code",
   "execution_count": 59,
   "metadata": {},
   "outputs": [],
   "source": [
    "desired_date = '30 November 2022'\n",
    "driver.find_element(By.CSS_SELECTOR, f\"[aria-label='{desired_date}']\").click()"
   ]
  },
  {
   "cell_type": "code",
   "execution_count": 60,
   "metadata": {},
   "outputs": [],
   "source": [
    "end_date = '1 December 2022'\n",
    "driver.find_element(By.CSS_SELECTOR, f\"[aria-label='{end_date}']\").click()"
   ]
  },
  {
   "cell_type": "code",
   "execution_count": 61,
   "metadata": {},
   "outputs": [],
   "source": [
    "search_bouton = driver.find_element(By.CLASS_NAME, 'xp__button')\n",
    "search_bouton.click()"
   ]
  },
  {
   "cell_type": "code",
   "execution_count": 62,
   "metadata": {},
   "outputs": [],
   "source": [
    "new_url = driver.current_url\n",
    "driver.get(new_url)"
   ]
  },
  {
   "cell_type": "code",
   "execution_count": 63,
   "metadata": {},
   "outputs": [],
   "source": [
    "click_first_hotel = driver.find_element(By.CLASS_NAME, 'dd023375f5')\n",
    "click_first_hotel.click()"
   ]
  },
  {
   "cell_type": "markdown",
   "metadata": {},
   "source": [
    "# Récupération des infos hotels (bs4)"
   ]
  },
  {
   "cell_type": "code",
   "execution_count": 75,
   "metadata": {},
   "outputs": [],
   "source": [
    "main_page = driver.window_handles[0]\n",
    "new_window = driver.window_handles[1]\n",
    "driver.switch_to.window(new_window)"
   ]
  },
  {
   "cell_type": "code",
   "execution_count": 76,
   "metadata": {},
   "outputs": [],
   "source": [
    "url_hotel = driver.current_url\n",
    "driver.get(url_hotel)"
   ]
  },
  {
   "cell_type": "code",
   "execution_count": 77,
   "metadata": {},
   "outputs": [
    {
     "data": {
      "text/plain": [
       "'https://www.booking.com/hotel/fr/hoteldereuillyparis.en-gb.html?aid=304142&label=gen173nr-1FCAEoggI46AdIM1gEaE2IAQGYAQ24ARfIAQzYAQHoAQH4AQuIAgGoAgO4AoHlmJwGwAIB0gIkMDJiY2Y1NmItNTE4MC00OTljLWI1ZjQtODZlOWU5MGFlOTU42AIG4AIB&sid=6abf66b985d8f2e736f2080eff64d91d&all_sr_blocks=5110714_363243247_0_2_0;checkin=2022-11-30;checkout=2022-12-01;dest_id=-1456928;dest_type=city;dist=0;group_adults=2;group_children=0;hapos=1;highlighted_blocks=5110714_363243247_0_2_0;hpos=1;matching_block_id=5110714_363243247_0_2_0;no_rooms=1;req_adults=2;req_children=0;room1=A%2CA;sb_price_type=total;sr_order=popularity;sr_pri_blocks=5110714_363243247_0_2_0__19338;srepoch=1669742021;srpvid=a2bb7921c0ae0054;type=total;ucfs=1&#hotelTmpl'"
      ]
     },
     "execution_count": 77,
     "metadata": {},
     "output_type": "execute_result"
    }
   ],
   "source": [
    "url_hotel"
   ]
  },
  {
   "cell_type": "code",
   "execution_count": 78,
   "metadata": {},
   "outputs": [],
   "source": [
    "requete = get(url_hotel)\n",
    "if requete.status_code == 200:\n",
    "    soupe = BeautifulSoup(requete.text, features = 'lxml')"
   ]
  },
  {
   "cell_type": "code",
   "execution_count": 79,
   "metadata": {},
   "outputs": [
    {
     "name": "stdout",
     "output_type": "stream",
     "text": [
      "Le Quartier Bercy-Square\n"
     ]
    }
   ],
   "source": [
    "names = soupe.find_all(class_ = \"d2fee87262 pp-header__title\")\n",
    "for name in names:\n",
    "    print(name.text)"
   ]
  },
  {
   "cell_type": "code",
   "execution_count": 80,
   "metadata": {},
   "outputs": [
    {
     "name": "stdout",
     "output_type": "stream",
     "text": [
      "\n",
      "33, Boulevard de Reuilly, 12th arr., 75012 Paris, France\n",
      "\n"
     ]
    }
   ],
   "source": [
    "adresses = soupe.find_all(class_ = \"hp_address_subtitle js-hp_address_subtitle jq_tooltip\")\n",
    "for adresse in adresses:\n",
    "    print(adresse.text)"
   ]
  },
  {
   "cell_type": "code",
   "execution_count": 81,
   "metadata": {},
   "outputs": [
    {
     "name": "stdout",
     "output_type": "stream",
     "text": [
      "3\n"
     ]
    }
   ],
   "source": [
    "rating_stars = soupe.find_all(class_ = \"b6dc9a9e69 adc357e4f1 fe621d6382\")\n",
    "for rating_star in rating_stars:\n",
    "    number_stars = len(rating_stars)\n",
    "print(number_stars)"
   ]
  },
  {
   "cell_type": "code",
   "execution_count": 82,
   "metadata": {},
   "outputs": [
    {
     "name": "stdout",
     "output_type": "stream",
     "text": [
      "8.3\n",
      "8.3\n",
      "8.3\n",
      "8.3\n"
     ]
    }
   ],
   "source": [
    "scores = soupe.find_all(class_ = \"b5cd09854e d10a6220b4\")\n",
    "for score in scores:\n",
    "    print(score.text)"
   ]
  },
  {
   "cell_type": "code",
   "execution_count": 83,
   "metadata": {},
   "outputs": [
    {
     "name": "stdout",
     "output_type": "stream",
     "text": [
      "2,385 reviews\n",
      "2,385 reviews\n",
      "2,385 reviews\n"
     ]
    }
   ],
   "source": [
    "reviews = soupe.find_all(class_ = \"d8eab2cf7f c90c0a70d3 db63693c62\")\n",
    "for review in reviews:\n",
    "    print(review.text)"
   ]
  },
  {
   "cell_type": "code",
   "execution_count": 84,
   "metadata": {},
   "outputs": [
    {
     "name": "stdout",
     "output_type": "stream",
     "text": [
      "Single Room\n",
      "Comfort Room\n",
      "Privilege Room\n",
      "Suite\n",
      "Classic Room\n",
      "Executive Room\n",
      "Junior Suite\n"
     ]
    }
   ],
   "source": [
    "room_names = soupe.find_all(class_ = \"fc63351294 a168c6f285 d1c4779e7a js-legacy-room-name a25b1d9e47\")\n",
    "for room_name in room_names:\n",
    "    print(room_name.text)"
   ]
  },
  {
   "cell_type": "code",
   "execution_count": 86,
   "metadata": {},
   "outputs": [],
   "source": [
    "room_names = soupe.find_all(class_ = \"hprt-roomtype-link\")\n",
    "for room_name in room_names:\n",
    "    print(room_name.text)"
   ]
  },
  {
   "cell_type": "markdown",
   "metadata": {},
   "source": [
    "# Récupération des infos selenium "
   ]
  },
  {
   "cell_type": "code",
   "execution_count": 89,
   "metadata": {},
   "outputs": [],
   "source": [
    "main_page = driver.window_handles[0]\n",
    "new_window = driver.window_handles[1]\n",
    "driver.switch_to.window(new_window)"
   ]
  },
  {
   "cell_type": "code",
   "execution_count": 94,
   "metadata": {},
   "outputs": [],
   "source": [
    "hotels = driver.find_elements(By.CLASS_NAME, 'd2fee87262 pp-header__title')\n",
    "for hotel in hotels:\n",
    "    print(hotel.text)"
   ]
  },
  {
   "cell_type": "code",
   "execution_count": 98,
   "metadata": {},
   "outputs": [],
   "source": [
    "adresses = driver.find_elements(By.CLASS_NAME, 'address address_clean')\n",
    "for adresse in adresses:\n",
    "    print(adresse.text)"
   ]
  },
  {
   "cell_type": "code",
   "execution_count": null,
   "metadata": {},
   "outputs": [],
   "source": [
    "\n"
   ]
  },
  {
   "cell_type": "code",
   "execution_count": 95,
   "metadata": {},
   "outputs": [
    {
     "name": "stdout",
     "output_type": "stream",
     "text": [
      "Classic Room\n",
      "Comfort Room\n",
      "Privilege Room\n",
      "Executive Room\n",
      "Junior Suite\n"
     ]
    }
   ],
   "source": [
    "rooms_type = driver.find_elements(By.CLASS_NAME, 'hprt-roomtype-icon-link ')\n",
    "for romm_type in rooms_type:\n",
    "    print(romm_type.text)"
   ]
  },
  {
   "cell_type": "code",
   "execution_count": null,
   "metadata": {},
   "outputs": [],
   "source": []
  }
 ],
 "metadata": {
  "kernelspec": {
   "display_name": "Python 3.10.6 64-bit",
   "language": "python",
   "name": "python3"
  },
  "language_info": {
   "codemirror_mode": {
    "name": "ipython",
    "version": 3
   },
   "file_extension": ".py",
   "mimetype": "text/x-python",
   "name": "python",
   "nbconvert_exporter": "python",
   "pygments_lexer": "ipython3",
   "version": "3.10.6"
  },
  "orig_nbformat": 4,
  "vscode": {
   "interpreter": {
    "hash": "153f4edbb71d8d4b8d7bfcd92ca00b08465c7cc0656d16dcadfed15145bbacdd"
   }
  }
 },
 "nbformat": 4,
 "nbformat_minor": 2
}
