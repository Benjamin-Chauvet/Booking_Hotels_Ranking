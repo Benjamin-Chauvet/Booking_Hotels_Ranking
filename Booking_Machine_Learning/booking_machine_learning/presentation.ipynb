{
 "cells": [
  {
   "cell_type": "markdown",
   "metadata": {},
   "source": [
    "# Booking_Hotels_Ranking"
   ]
  },
  {
   "attachments": {},
   "cell_type": "markdown",
   "metadata": {},
   "source": [
    "# Tables des matières\n",
    "\n",
    "* [Introduction](#Introduction)\n",
    "* [Acquisition des données](#Acquisition-des-données)\n",
    "* [Nettoyage des données et preprocessing](#)\n",
    "* [Sélection et entrainement du modèle](#)\n",
    "* [Exploitation du prédicteur](#)"
   ]
  },
  {
   "attachments": {},
   "cell_type": "markdown",
   "metadata": {},
   "source": [
    "# Introduction"
   ]
  },
  {
   "attachments": {},
   "cell_type": "markdown",
   "metadata": {},
   "source": [
    "Projet réalisé sur le site [Booking.com](https://www.booking.com/index.en-gb.html?label=gen173nr-1BCAEoggI46AdIM1gEaE2IAQGYAQm4ARfIAQzYAQHoAQGIAgGoAgO4AsiE4Z0GwAIB0gIkZTYzNDYwZjAtYzE5Yy00YWMzLWEzNWItZjkzNDlkNmU1ZDBl2AIF4AIB&sid=7ba9f340e388bcc1c3db52ff34b02dd7&keep_landing=1&sb_price_type=total).\n",
    "\n",
    "**Problématique** : Trouver les variables qui influencent le prix d'une chambre d'hotel"
   ]
  },
  {
   "attachments": {},
   "cell_type": "markdown",
   "metadata": {
    "tags": []
   },
   "source": [
    "# Acquisition des données"
   ]
  },
  {
   "attachments": {},
   "cell_type": "markdown",
   "metadata": {},
   "source": [
    "Récupération des données pour 2 villes : *Paris* et *Londres* avec comme caractéristiques imposées la réservation d'une nuit, du 15/01/2023 au 16/01/2023 pour 2 adultes.\n"
   ]
  },
  {
   "attachments": {},
   "cell_type": "markdown",
   "metadata": {},
   "source": [
    "Voir le scraping_final.py"
   ]
  },
  {
   "attachments": {},
   "cell_type": "markdown",
   "metadata": {},
   "source": [
    "Fonction *open_hotels* qui permet de récupérer différentes informations : \n",
    "- l'identifiant de l'hôtel\n",
    "- le nom de l'hôtel\n",
    "- l'adresse de l'hôtel\n",
    "- la note de l'hôtel par les utilisateurs de *Booking*\n",
    "- le nombre d'étoiles\n",
    "- le type (si c'est un hôtel, appartement ...)\n",
    "- le nombre de commentaires laissé sur cet hôtel par les utilisateurs de *Booking*\n",
    "- les équipements de chaque chambre et de l'hôtel (salle de bain, chambre, ascenseur, parking, ...)\n",
    "- les notes attribués aux différents services de l'hôtel (le personnel, le confort, le wifi, le rapport qualité-prix, ...)\n",
    "- l'identifiant de la chambre\n",
    "- le nom de la chambre\n",
    "- la taille de la chambre\n",
    "- **le prix de la chambre** (variable cible)\n",
    "- le nombre de personnes puvant être accueillis dans la chambre\n",
    "- la présence d'une promotion sur le prix récupéré\n",
    "- information sur le petit déjeuner (inclu, prix, ...)\n",
    "- les possibilités d'annulation (gratuite, possibilité de reprogrammer, ...)\n",
    "- le moment de payer (à l'avance, sur place, ...)\n",
    "\n",
    "Sortie json : Booking_Hotels_Paris.json (si la ville demandée est Paris)"
   ]
  },
  {
   "attachments": {},
   "cell_type": "markdown",
   "metadata": {},
   "source": [
    "![Rooms](Capture_Rooms.PNG)"
   ]
  },
  {
   "attachments": {},
   "cell_type": "markdown",
   "metadata": {},
   "source": [
    "# Nettoyage des données et preprocessing "
   ]
  },
  {
   "cell_type": "markdown",
   "metadata": {},
   "source": [
    "Voir le prepro_final.py"
   ]
  },
  {
   "attachments": {},
   "cell_type": "markdown",
   "metadata": {},
   "source": [
    "Nettoyage des données portant sur :\n",
    "- le prix\n",
    "- l'adresse\n",
    "- le nombre de commentaires\n",
    "- la note \n",
    "- l'annulation \n",
    "- le petit déjeuner\n",
    "- la taille de la chambre "
   ]
  },
  {
   "attachments": {},
   "cell_type": "markdown",
   "metadata": {},
   "source": [
    "Création de données : \n",
    "- les équipements des chambres et des hôtels\n",
    "- les notes attribués aux services de l'hôtel\n",
    "- une variable binaire qui informe sur la présence d'une promotion\n",
    "- une variable binaire qui informe si l'annulation est gratuite\n",
    "- une varaible binaire qui informe si un prépaiement est possible\n",
    "- une variable binaire qui informe si le petit déjeuner et inclu\n",
    "- le prix du petit déjeuner s'il n'est pas inclu"
   ]
  },
  {
   "attachments": {},
   "cell_type": "markdown",
   "metadata": {},
   "source": [
    "# Statistiques descriptives"
   ]
  },
  {
   "cell_type": "markdown",
   "metadata": {},
   "source": [
    "#### Importations librairies et données"
   ]
  },
  {
   "cell_type": "code",
   "execution_count": 110,
   "metadata": {},
   "outputs": [],
   "source": [
    "from sklearn.model_selection import train_test_split, GridSearchCV, cross_val_score\n",
    "from sklearn.pipeline import Pipeline\n",
    "from sklearn.preprocessing import MinMaxScaler, PolynomialFeatures\n",
    "from sklearn.neighbors import KNeighborsRegressor\n",
    "from sklearn.linear_model import LogisticRegression, LinearRegression\n",
    "from sklearn.svm import SVC, SVR\n",
    "from sklearn.ensemble import RandomForestRegressor, GradientBoostingRegressor, AdaBoostRegressor\n",
    "from sklearn.tree import  DecisionTreeRegressor\n",
    "from sklearn.neural_network import MLPRegressor\n",
    "from sklearn.linear_model import ElasticNet\n",
    "from sklearn.linear_model import Lasso\n",
    "from sklearn.linear_model import Ridge\n",
    "from sklearn.gaussian_process import GaussianProcessRegressor\n",
    "\n",
    "import pandas as pd\n",
    "import numpy as np\n",
    "import json\n",
    "import seaborn as sns\n",
    "\n",
    "from rich import print\n",
    "from rich.table import Table \n",
    "with open('Booking_Hotels_Paris_cleaned.json', 'r') as read_content:\n",
    "    data = json.load(read_content)\n",
    "\n",
    "Paris = pd.DataFrame(data)"
   ]
  },
  {
   "cell_type": "code",
   "execution_count": 101,
   "metadata": {},
   "outputs": [],
   "source": [
    "summary = Table(\n",
    "    \"Variable\",\n",
    "    \"Type\",\n",
    "    \"NA\"\n",
    ")"
   ]
  },
  {
   "cell_type": "code",
   "execution_count": 102,
   "metadata": {},
   "outputs": [],
   "source": [
    "for col in Paris.columns:\n",
    "    NA = '/'\n",
    "    if Paris[col].isnull().sum() != 0:\n",
    "        NA = Paris[col].isnull().sum()\n",
    "    summary.add_row(\n",
    "        str(col),\n",
    "        str(Paris[col].dtype),\n",
    "        str(NA)\n",
    "    )"
   ]
  },
  {
   "cell_type": "code",
   "execution_count": 99,
   "metadata": {},
   "outputs": [],
   "source": [
    "list_facilities = []\n",
    "for i in range(0, len(Paris)):\n",
    "    for keys, values in Paris[\"Hotel_facilities\"][i].items():\n",
    "        if keys not in list_facilities:\n",
    "            list_facilities.append(keys)\n",
    "            \n",
    "Paris = Paris.drop(['Room_id', 'Room_name', 'Room_promo', 'Room_breakfast','Room_cancellation', 'Room_prepayment', 'Hotel_id', 'Hotel_Name', 'Hotel_address', 'Hotel_type', 'Hotel_facilities', 'Hotel_categories', 'Hotel_Street', 'Hotel_City', 'Hotel_Country'], axis=1)\n",
    "for facility in list_facilities:\n",
    "    Paris = Paris.drop(columns=[f'{facility}'])"
   ]
  },
  {
   "attachments": {},
   "cell_type": "markdown",
   "metadata": {},
   "source": [
    "#### Présentation du dataset et de la variable cible :"
   ]
  },
  {
   "cell_type": "code",
   "execution_count": 103,
   "metadata": {},
   "outputs": [
    {
     "data": {
      "text/html": [
       "<pre style=\"white-space:pre;overflow-x:auto;line-height:normal;font-family:Menlo,'DejaVu Sans Mono',consolas,'Courier New',monospace\">┏━━━━━━━━━━━━━━━━━━━━━━━━━━━┳━━━━━━━━━┳━━━━━┓\n",
       "┃<span style=\"font-weight: bold\"> Variable                  </span>┃<span style=\"font-weight: bold\"> Type    </span>┃<span style=\"font-weight: bold\"> NA  </span>┃\n",
       "┡━━━━━━━━━━━━━━━━━━━━━━━━━━━╇━━━━━━━━━╇━━━━━┩\n",
       "│ Room_price                │ int64   │ /   │\n",
       "│ Room_sleeps               │ int64   │ /   │\n",
       "│ Room_size                 │ float64 │ 323 │\n",
       "│ Hotel_grade               │ float64 │ 7   │\n",
       "│ Hotel_nb_reviews          │ int64   │ /   │\n",
       "│ Hotel_stars               │ int64   │ /   │\n",
       "│ Lift_bin                  │ int64   │ /   │\n",
       "│ Luggage storage_bin       │ int64   │ /   │\n",
       "│ No parking available._bin │ int64   │ /   │\n",
       "│ Staff                     │ float64 │ 7   │\n",
       "│ Facilities                │ float64 │ 7   │\n",
       "│ Cleanliness               │ float64 │ 7   │\n",
       "│ Comfort                   │ float64 │ 7   │\n",
       "│ Value for money           │ float64 │ 7   │\n",
       "│ Location                  │ float64 │ 7   │\n",
       "│ Free WiFi                 │ float64 │ 145 │\n",
       "│ Room_promo_bin            │ int64   │ /   │\n",
       "│ Room_cancellation_bin     │ int64   │ /   │\n",
       "│ Room_prepayment_bin       │ int64   │ /   │\n",
       "│ Room_breakfast_bin        │ int64   │ /   │\n",
       "│ Room_breakfast_price      │ float64 │ /   │\n",
       "└───────────────────────────┴─────────┴─────┘\n",
       "</pre>\n"
      ],
      "text/plain": [
       "┏━━━━━━━━━━━━━━━━━━━━━━━━━━━┳━━━━━━━━━┳━━━━━┓\n",
       "┃\u001b[1m \u001b[0m\u001b[1mVariable                 \u001b[0m\u001b[1m \u001b[0m┃\u001b[1m \u001b[0m\u001b[1mType   \u001b[0m\u001b[1m \u001b[0m┃\u001b[1m \u001b[0m\u001b[1mNA \u001b[0m\u001b[1m \u001b[0m┃\n",
       "┡━━━━━━━━━━━━━━━━━━━━━━━━━━━╇━━━━━━━━━╇━━━━━┩\n",
       "│ Room_price                │ int64   │ /   │\n",
       "│ Room_sleeps               │ int64   │ /   │\n",
       "│ Room_size                 │ float64 │ 323 │\n",
       "│ Hotel_grade               │ float64 │ 7   │\n",
       "│ Hotel_nb_reviews          │ int64   │ /   │\n",
       "│ Hotel_stars               │ int64   │ /   │\n",
       "│ Lift_bin                  │ int64   │ /   │\n",
       "│ Luggage storage_bin       │ int64   │ /   │\n",
       "│ No parking available._bin │ int64   │ /   │\n",
       "│ Staff                     │ float64 │ 7   │\n",
       "│ Facilities                │ float64 │ 7   │\n",
       "│ Cleanliness               │ float64 │ 7   │\n",
       "│ Comfort                   │ float64 │ 7   │\n",
       "│ Value for money           │ float64 │ 7   │\n",
       "│ Location                  │ float64 │ 7   │\n",
       "│ Free WiFi                 │ float64 │ 145 │\n",
       "│ Room_promo_bin            │ int64   │ /   │\n",
       "│ Room_cancellation_bin     │ int64   │ /   │\n",
       "│ Room_prepayment_bin       │ int64   │ /   │\n",
       "│ Room_breakfast_bin        │ int64   │ /   │\n",
       "│ Room_breakfast_price      │ float64 │ /   │\n",
       "└───────────────────────────┴─────────┴─────┘\n"
      ]
     },
     "execution_count": 103,
     "metadata": {},
     "output_type": "execute_result"
    }
   ],
   "source": [
    "summary"
   ]
  },
  {
   "cell_type": "code",
   "execution_count": 111,
   "metadata": {},
   "outputs": [],
   "source": [
    "Paris_updated = Paris.dropna(axis=0)"
   ]
  },
  {
   "cell_type": "code",
   "execution_count": 112,
   "metadata": {},
   "outputs": [
    {
     "data": {
      "text/plain": [
       "Hotel                13924\n",
       "Aparthotel             234\n",
       "Hostel                  56\n",
       "Apartments              46\n",
       "Bed and breakfast       10\n",
       "Name: Hotel_type, dtype: int64"
      ]
     },
     "execution_count": 112,
     "metadata": {},
     "output_type": "execute_result"
    }
   ],
   "source": [
    "Paris_updated.Hotel_type.value_counts()"
   ]
  },
  {
   "cell_type": "code",
   "execution_count": 113,
   "metadata": {},
   "outputs": [],
   "source": [
    "i = Paris_updated[(Paris_updated.Hotel_type != 'Hotel')].index\n",
    "Paris_updated = Paris_updated.drop(i)"
   ]
  },
  {
   "cell_type": "code",
   "execution_count": 79,
   "metadata": {},
   "outputs": [
    {
     "data": {
      "text/plain": [
       "<AxesSubplot:ylabel='Room_price'>"
      ]
     },
     "execution_count": 79,
     "metadata": {},
     "output_type": "execute_result"
    },
    {
     "data": {
      "image/png": "[encoded data removed]",
      "text/plain": [
       "<Figure size 432x288 with 1 Axes>"
      ]
     },
     "metadata": {
      "needs_background": "light"
     },
     "output_type": "display_data"
    }
   ],
   "source": [
    "sns.lineplot(Paris.Room_price.value_counts())"
   ]
  },
  {
   "cell_type": "code",
   "execution_count": 95,
   "metadata": {},
   "outputs": [
    {
     "data": {
      "image/png": "[encoded data removed]",
      "text/plain": [
       "<Figure size 432x288 with 2 Axes>"
      ]
     },
     "metadata": {
      "needs_background": "light"
     },
     "output_type": "display_data"
    }
   ],
   "source": [
    "corr = Paris_updated.corr()\n",
    "\n",
    "ax = sns.heatmap(\n",
    "    corr, \n",
    "    vmin=-1, vmax=1, center=0,\n",
    "    cmap=sns.diverging_palette(20, 220, n=200),\n",
    "    square=False\n",
    ")\n",
    "ax.set_xticklabels(\n",
    "    ax.get_xticklabels(),\n",
    "    rotation=45,\n",
    "    horizontalalignment='right'\n",
    ");"
   ]
  },
  {
   "attachments": {},
   "cell_type": "markdown",
   "metadata": {},
   "source": [
    "Prix positivement corrélé avec :\n",
    " - Surface de la chambre\n",
    " - Nombre d'étoiles de l'hotel\n",
    " - Note globale de l'hotel\n",
    " - Notes de l'hotel par catégorie (aménagements, propreté, confort, localisation)\n",
    " - Nombre de couchages de la chambre\n",
    " \n",
    "Prix négativement corrélé avec :\n",
    " - Nombre de reviews de l'hotel\n",
    " - Pas de parking"
   ]
  },
  {
   "attachments": {},
   "cell_type": "markdown",
   "metadata": {},
   "source": [
    "# Sélection et entrainement du modèle"
   ]
  },
  {
   "cell_type": "markdown",
   "metadata": {},
   "source": [
    "### Settings"
   ]
  },
  {
   "cell_type": "code",
   "execution_count": 116,
   "metadata": {},
   "outputs": [],
   "source": [
    "X = Paris_updated[\n",
    "    [\n",
    "    'Room_size', \n",
    "    'Room_promo_bin', \n",
    "    'Room_sleeps', \n",
    "    'Hotel_grade',\n",
    "    'Staff', \n",
    "    'Facilities',\n",
    "    'Cleanliness',\n",
    "    'Comfort',\n",
    "    'Value for money',\n",
    "    'Location',\n",
    "    'Free WiFi',\n",
    "    'Hotel_nb_reviews',\n",
    "    'Hotel_stars',\n",
    "    'Room_cancellation_bin',\n",
    "    'Room_prepayment_bin',\n",
    "    'Room_breakfast_bin',\n",
    "    'Room_breakfast_price'\n",
    "    ]\n",
    "]\n",
    "y = Paris_updated['Room_price']"
   ]
  },
  {
   "cell_type": "code",
   "execution_count": 117,
   "metadata": {},
   "outputs": [],
   "source": [
    "X_tr, X_te, y_tr, y_te = train_test_split(X, y)"
   ]
  },
  {
   "cell_type": "code",
   "execution_count": 118,
   "metadata": {},
   "outputs": [],
   "source": [
    "pl = Pipeline(\n",
    "    [\n",
    "        (\"mise_echelle\", MinMaxScaler()),\n",
    "        (\"support_vecteurs\", SVR())\n",
    "    ]\n",
    ")"
   ]
  },
  {
   "cell_type": "code",
   "execution_count": 119,
   "metadata": {},
   "outputs": [
    {
     "data": {
      "text/plain": [
       "{'memory': None,\n",
       " 'steps': [('mise_echelle', MinMaxScaler()), ('support_vecteurs', SVR())],\n",
       " 'verbose': False,\n",
       " 'mise_echelle': MinMaxScaler(),\n",
       " 'support_vecteurs': SVR(),\n",
       " 'mise_echelle__clip': False,\n",
       " 'mise_echelle__copy': True,\n",
       " 'mise_echelle__feature_range': (0, 1),\n",
       " 'support_vecteurs__C': 1.0,\n",
       " 'support_vecteurs__cache_size': 200,\n",
       " 'support_vecteurs__coef0': 0.0,\n",
       " 'support_vecteurs__degree': 3,\n",
       " 'support_vecteurs__epsilon': 0.1,\n",
       " 'support_vecteurs__gamma': 'scale',\n",
       " 'support_vecteurs__kernel': 'rbf',\n",
       " 'support_vecteurs__max_iter': -1,\n",
       " 'support_vecteurs__shrinking': True,\n",
       " 'support_vecteurs__tol': 0.001,\n",
       " 'support_vecteurs__verbose': False}"
      ]
     },
     "execution_count": 119,
     "metadata": {},
     "output_type": "execute_result"
    }
   ],
   "source": [
    "pl.get_params()"
   ]
  },
  {
   "cell_type": "code",
   "execution_count": 120,
   "metadata": {},
   "outputs": [],
   "source": [
    "pl_gs = GridSearchCV(\n",
    "    pl,\n",
    "    {\n",
    "        'support_vecteurs__C': (0.1, 1.0, 10), #zone de sécurité, pénalisation(cb de membres de chaque famille il peut y avoir à l'extérieur de la bande)\n",
    "        'support_vecteurs__epsilon': (0.1, 1.0, 10), #zone de confiance\n",
    "    }\n",
    ")\n",
    "pl_gs_final = pl_gs.fit(X_tr, y_tr)"
   ]
  },
  {
   "cell_type": "code",
   "execution_count": 121,
   "metadata": {},
   "outputs": [
    {
     "data": {
      "text/plain": [
       "0.6210317068991965"
      ]
     },
     "execution_count": 121,
     "metadata": {},
     "output_type": "execute_result"
    }
   ],
   "source": [
    "pl_gs_final.score(X_tr, y_tr)"
   ]
  },
  {
   "attachments": {},
   "cell_type": "markdown",
   "metadata": {},
   "source": [
    "# Exploitation du prédicteur "
   ]
  }
 ],
 "metadata": {
  "kernelspec": {
   "display_name": "Python 3",
   "language": "python",
   "name": "python3"
  },
  "language_info": {
   "codemirror_mode": {
    "name": "ipython",
    "version": 3
   },
   "file_extension": ".py",
   "mimetype": "text/x-python",
   "name": "python",
   "nbconvert_exporter": "python",
   "pygments_lexer": "ipython3",
   "version": "3.10.0"
  },
  "orig_nbformat": 4,
  "vscode": {
   "interpreter": {
    "hash": "e192c477015e0c8e4427e2a21fcada2aaf43102079abc726728a52ed32b2764a"
   }
  }
 },
 "nbformat": 4,
 "nbformat_minor": 2
}
