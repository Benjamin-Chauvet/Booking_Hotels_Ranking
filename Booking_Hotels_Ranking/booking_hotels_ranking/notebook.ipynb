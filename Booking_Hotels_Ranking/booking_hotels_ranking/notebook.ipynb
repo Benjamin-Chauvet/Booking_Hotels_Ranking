{
 "cells": [
  {
   "cell_type": "code",
   "execution_count": 1,
   "metadata": {},
   "outputs": [],
   "source": [
    "from sklearn.model_selection import train_test_split, GridSearchCV, cross_val_score\n",
    "from sklearn.pipeline import Pipeline\n",
    "from sklearn.preprocessing import MinMaxScaler\n",
    "from sklearn.neighbors import KNeighborsRegressor\n",
    "from sklearn.linear_model import LogisticRegression, LinearRegression\n",
    "from sklearn.svm import SVR\n",
    "from sklearn.ensemble import (\n",
    "    RandomForestRegressor,\n",
    "    GradientBoostingRegressor,\n",
    "    AdaBoostRegressor,\n",
    ")\n",
    "from sklearn.neural_network import MLPRegressor\n",
    "from sklearn.linear_model import ElasticNet\n",
    "from sklearn.linear_model import Lasso\n",
    "from sklearn.linear_model import Ridge\n",
    "from sklearn.gaussian_process import GaussianProcessRegressor\n",
    "from sklearn.naive_bayes import BernoulliNB\n",
    "from xgboost import XGBRegressor\n",
    "\n",
    "# ruff .toml\n",
    "import pandas as pd\n",
    "import numpy as np\n",
    "import json\n",
    "\n",
    "from rich import print\n",
    "from rich.table import Table"
   ]
  },
  {
   "cell_type": "code",
   "execution_count": 22,
   "metadata": {},
   "outputs": [],
   "source": [
    "with open(\"Booking_Hotels_Paris_cleaned.json\", \"r\") as read_content:\n",
    "    df = json.load(read_content)\n",
    "\n",
    "df = pd.DataFrame(df)"
   ]
  },
  {
   "cell_type": "code",
   "execution_count": 23,
   "metadata": {},
   "outputs": [],
   "source": [
    "df = df.dropna(axis=0)"
   ]
  },
  {
   "cell_type": "code",
   "execution_count": 8,
   "metadata": {},
   "outputs": [],
   "source": [
    "summary = Table('Variable', 'type', 'NA')"
   ]
  },
  {
   "cell_type": "code",
   "execution_count": 9,
   "metadata": {},
   "outputs": [
    {
     "data": {
      "text/html": [
       "<pre style=\"white-space:pre;overflow-x:auto;line-height:normal;font-family:Menlo,'DejaVu Sans Mono',consolas,'Courier New',monospace\">┏━━━━━━━━━━━━━━━━━━━━━━━━━━━━━━━━━━━┳━━━━━━━━━┳━━━━┓\n",
       "┃<span style=\"font-weight: bold\"> Variable                          </span>┃<span style=\"font-weight: bold\"> type    </span>┃<span style=\"font-weight: bold\"> NA </span>┃\n",
       "┡━━━━━━━━━━━━━━━━━━━━━━━━━━━━━━━━━━━╇━━━━━━━━━╇━━━━┩\n",
       "│ Room_id                           │ object  │ /  │\n",
       "│ Room_name                         │ object  │ /  │\n",
       "│ Room_price                        │ int64   │ /  │\n",
       "│ Room_sleeps                       │ int64   │ /  │\n",
       "│ Room_promo                        │ object  │ /  │\n",
       "│ Room_breakfast                    │ object  │ /  │\n",
       "│ Room_cancellation                 │ object  │ /  │\n",
       "│ Room_prepayment                   │ object  │ /  │\n",
       "│ Room_size                         │ float64 │ /  │\n",
       "│ Hotel_id                          │ object  │ /  │\n",
       "│ Hotel_Name                        │ object  │ /  │\n",
       "│ Hotel_address                     │ object  │ /  │\n",
       "│ Hotel_grade                       │ float64 │ /  │\n",
       "│ Hotel_type                        │ object  │ /  │\n",
       "│ Hotel_nb_reviews                  │ int64   │ /  │\n",
       "│ Hotel_facilities                  │ object  │ /  │\n",
       "│ Hotel_stars                       │ int64   │ /  │\n",
       "│ Hotel_categories                  │ object  │ /  │\n",
       "│ Hotel_Street                      │ object  │ /  │\n",
       "│ Hotel_City                        │ object  │ /  │\n",
       "│ Hotel_Country                     │ object  │ /  │\n",
       "│ Bathroom                          │ object  │ /  │\n",
       "│ Bedroom                           │ object  │ /  │\n",
       "│ Outdoors                          │ object  │ /  │\n",
       "│ Kitchen                           │ object  │ /  │\n",
       "│ Room Amenities                    │ object  │ /  │\n",
       "│ Activities                        │ object  │ /  │\n",
       "│ Media &amp; Technology                │ object  │ /  │\n",
       "│ Food &amp; Drink                      │ object  │ /  │\n",
       "│ Internet                          │ object  │ /  │\n",
       "│ Parking                           │ object  │ /  │\n",
       "│ Reception services                │ object  │ /  │\n",
       "│ Entertainment and family services │ object  │ /  │\n",
       "│ Cleaning services                 │ object  │ /  │\n",
       "│ Business facilities               │ object  │ /  │\n",
       "│ Safety &amp; security                 │ object  │ /  │\n",
       "│ General                           │ object  │ /  │\n",
       "│ Accessibility                     │ object  │ /  │\n",
       "│ Wellness                          │ object  │ /  │\n",
       "│ Languages spoken                  │ object  │ /  │\n",
       "│ View                              │ object  │ /  │\n",
       "│ Pets                              │ object  │ /  │\n",
       "│ Living Area                       │ object  │ /  │\n",
       "│ Services                          │ object  │ /  │\n",
       "│ Outdoor &amp; View                    │ object  │ /  │\n",
       "│ Services &amp; Extras                 │ object  │ /  │\n",
       "│ Transport                         │ object  │ /  │\n",
       "│ Miscellaneous                     │ object  │ /  │\n",
       "│ Common areas                      │ object  │ /  │\n",
       "│ Shops                             │ object  │ /  │\n",
       "│ Indoor swimming pool              │ object  │ /  │\n",
       "│ Building characteristics          │ object  │ /  │\n",
       "│ 2 swimming pools                  │ object  │ /  │\n",
       "│ Lift_bin                          │ int64   │ /  │\n",
       "│ Luggage storage_bin               │ int64   │ /  │\n",
       "│ No parking available._bin         │ int64   │ /  │\n",
       "│ Staff                             │ float64 │ /  │\n",
       "│ Facilities                        │ float64 │ /  │\n",
       "│ Cleanliness                       │ float64 │ /  │\n",
       "│ Comfort                           │ float64 │ /  │\n",
       "│ Value for money                   │ float64 │ /  │\n",
       "│ Location                          │ float64 │ /  │\n",
       "│ Free WiFi                         │ float64 │ /  │\n",
       "│ Room_promo_bin                    │ int64   │ /  │\n",
       "│ Room_cancellation_bin             │ int64   │ /  │\n",
       "│ Room_prepayment_bin               │ int64   │ /  │\n",
       "│ Room_breakfast_bin                │ int64   │ /  │\n",
       "│ Room_breakfast_price              │ float64 │ /  │\n",
       "└───────────────────────────────────┴─────────┴────┘\n",
       "</pre>\n"
      ],
      "text/plain": [
       "┏━━━━━━━━━━━━━━━━━━━━━━━━━━━━━━━━━━━┳━━━━━━━━━┳━━━━┓\n",
       "┃\u001b[1m \u001b[0m\u001b[1mVariable                         \u001b[0m\u001b[1m \u001b[0m┃\u001b[1m \u001b[0m\u001b[1mtype   \u001b[0m\u001b[1m \u001b[0m┃\u001b[1m \u001b[0m\u001b[1mNA\u001b[0m\u001b[1m \u001b[0m┃\n",
       "┡━━━━━━━━━━━━━━━━━━━━━━━━━━━━━━━━━━━╇━━━━━━━━━╇━━━━┩\n",
       "│ Room_id                           │ object  │ /  │\n",
       "│ Room_name                         │ object  │ /  │\n",
       "│ Room_price                        │ int64   │ /  │\n",
       "│ Room_sleeps                       │ int64   │ /  │\n",
       "│ Room_promo                        │ object  │ /  │\n",
       "│ Room_breakfast                    │ object  │ /  │\n",
       "│ Room_cancellation                 │ object  │ /  │\n",
       "│ Room_prepayment                   │ object  │ /  │\n",
       "│ Room_size                         │ float64 │ /  │\n",
       "│ Hotel_id                          │ object  │ /  │\n",
       "│ Hotel_Name                        │ object  │ /  │\n",
       "│ Hotel_address                     │ object  │ /  │\n",
       "│ Hotel_grade                       │ float64 │ /  │\n",
       "│ Hotel_type                        │ object  │ /  │\n",
       "│ Hotel_nb_reviews                  │ int64   │ /  │\n",
       "│ Hotel_facilities                  │ object  │ /  │\n",
       "│ Hotel_stars                       │ int64   │ /  │\n",
       "│ Hotel_categories                  │ object  │ /  │\n",
       "│ Hotel_Street                      │ object  │ /  │\n",
       "│ Hotel_City                        │ object  │ /  │\n",
       "│ Hotel_Country                     │ object  │ /  │\n",
       "│ Bathroom                          │ object  │ /  │\n",
       "│ Bedroom                           │ object  │ /  │\n",
       "│ Outdoors                          │ object  │ /  │\n",
       "│ Kitchen                           │ object  │ /  │\n",
       "│ Room Amenities                    │ object  │ /  │\n",
       "│ Activities                        │ object  │ /  │\n",
       "│ Media & Technology                │ object  │ /  │\n",
       "│ Food & Drink                      │ object  │ /  │\n",
       "│ Internet                          │ object  │ /  │\n",
       "│ Parking                           │ object  │ /  │\n",
       "│ Reception services                │ object  │ /  │\n",
       "│ Entertainment and family services │ object  │ /  │\n",
       "│ Cleaning services                 │ object  │ /  │\n",
       "│ Business facilities               │ object  │ /  │\n",
       "│ Safety & security                 │ object  │ /  │\n",
       "│ General                           │ object  │ /  │\n",
       "│ Accessibility                     │ object  │ /  │\n",
       "│ Wellness                          │ object  │ /  │\n",
       "│ Languages spoken                  │ object  │ /  │\n",
       "│ View                              │ object  │ /  │\n",
       "│ Pets                              │ object  │ /  │\n",
       "│ Living Area                       │ object  │ /  │\n",
       "│ Services                          │ object  │ /  │\n",
       "│ Outdoor & View                    │ object  │ /  │\n",
       "│ Services & Extras                 │ object  │ /  │\n",
       "│ Transport                         │ object  │ /  │\n",
       "│ Miscellaneous                     │ object  │ /  │\n",
       "│ Common areas                      │ object  │ /  │\n",
       "│ Shops                             │ object  │ /  │\n",
       "│ Indoor swimming pool              │ object  │ /  │\n",
       "│ Building characteristics          │ object  │ /  │\n",
       "│ 2 swimming pools                  │ object  │ /  │\n",
       "│ Lift_bin                          │ int64   │ /  │\n",
       "│ Luggage storage_bin               │ int64   │ /  │\n",
       "│ No parking available._bin         │ int64   │ /  │\n",
       "│ Staff                             │ float64 │ /  │\n",
       "│ Facilities                        │ float64 │ /  │\n",
       "│ Cleanliness                       │ float64 │ /  │\n",
       "│ Comfort                           │ float64 │ /  │\n",
       "│ Value for money                   │ float64 │ /  │\n",
       "│ Location                          │ float64 │ /  │\n",
       "│ Free WiFi                         │ float64 │ /  │\n",
       "│ Room_promo_bin                    │ int64   │ /  │\n",
       "│ Room_cancellation_bin             │ int64   │ /  │\n",
       "│ Room_prepayment_bin               │ int64   │ /  │\n",
       "│ Room_breakfast_bin                │ int64   │ /  │\n",
       "│ Room_breakfast_price              │ float64 │ /  │\n",
       "└───────────────────────────────────┴─────────┴────┘\n"
      ]
     },
     "execution_count": 9,
     "metadata": {},
     "output_type": "execute_result"
    }
   ],
   "source": [
    "for col in df.columns:\n",
    "    NA = '/'\n",
    "    if df[col].isnull().sum() != 0:\n",
    "        NA = df[col].isnull().sum()\n",
    "    summary.add_row(\n",
    "        str(col),\n",
    "        str(df[col].dtype),\n",
    "        str(NA)\n",
    "    )\n",
    "summary"
   ]
  },
  {
   "cell_type": "code",
   "execution_count": 17,
   "metadata": {},
   "outputs": [],
   "source": [
    "list_facilities = []\n",
    "for i in range(0, len(df)):\n",
    "    for keys, values in df[\"Hotel_facilities\"][i].items():\n",
    "        if keys not in list_facilities:\n",
    "            list_facilities.append(keys)\n",
    "\n",
    "df_updated = df.drop(\n",
    "    [\n",
    "        \"Room_id\",\n",
    "        \"Room_name\",\n",
    "        \"Room_promo\",\n",
    "        \"Room_breakfast\",\n",
    "        \"Room_cancellation\",\n",
    "        \"Room_prepayment\",\n",
    "        \"Hotel_id\",\n",
    "        # \"Hotel_name\",\n",
    "        \"Hotel_Name\",\n",
    "        \"Hotel_address\",\n",
    "        \"Hotel_type\",\n",
    "        \"Hotel_facilities\",\n",
    "        \"Hotel_categories\",\n",
    "        \"Hotel_Street\",\n",
    "        \"Hotel_City\",\n",
    "        \"Hotel_Country\",\n",
    "    ],\n",
    "    axis=1,\n",
    ")\n",
    "for facility in list_facilities:\n",
    "    df = df.drop(columns=[f\"{facility}\"])\n",
    "\n",
    "y = df.Room_price\n",
    "X = df.drop(\"Room_price\", axis=1)\n",
    "\n",
    "X_tr, X_te, y_tr, y_te = train_test_split(X, y, random_state=85)"
   ]
  },
  {
   "cell_type": "code",
   "execution_count": 24,
   "metadata": {},
   "outputs": [],
   "source": [
    "y = df[\"Room_price\"]\n",
    "X = df[\n",
    "    ['Room_sleeps', 'Room_size', 'Hotel_grade', 'Hotel_nb_reviews',\n",
    "       'Hotel_stars', 'Lift_bin', 'Luggage storage_bin',\n",
    "       'No parking available._bin', 'Staff', 'Facilities', 'Cleanliness',\n",
    "       'Comfort', 'Value for money', 'Location', 'Free WiFi', 'Room_promo_bin',\n",
    "       'Room_cancellation_bin', 'Room_prepayment_bin', 'Room_breakfast_bin',\n",
    "       'Room_breakfast_price'\n",
    "    ]\n",
    "]\n",
    "X_tr, X_te, y_tr, y_te = train_test_split(X, y, random_state=85)"
   ]
  },
  {
   "cell_type": "code",
   "execution_count": 25,
   "metadata": {},
   "outputs": [
    {
     "data": {
      "text/plain": [
       "Index(['Room_sleeps', 'Room_size', 'Hotel_grade', 'Hotel_nb_reviews',\n",
       "       'Hotel_stars', 'Lift_bin', 'Luggage storage_bin',\n",
       "       'No parking available._bin', 'Staff', 'Facilities', 'Cleanliness',\n",
       "       'Comfort', 'Value for money', 'Location', 'Free WiFi', 'Room_promo_bin',\n",
       "       'Room_cancellation_bin', 'Room_prepayment_bin', 'Room_breakfast_bin',\n",
       "       'Room_breakfast_price'],\n",
       "      dtype='object')"
      ]
     },
     "execution_count": 25,
     "metadata": {},
     "output_type": "execute_result"
    }
   ],
   "source": [
    "X.columns"
   ]
  },
  {
   "cell_type": "code",
   "execution_count": 27,
   "metadata": {},
   "outputs": [],
   "source": [
    "lr = LinearRegression()\n",
    "lr_final = lr.fit(X_tr, y_tr)"
   ]
  },
  {
   "cell_type": "code",
   "execution_count": 40,
   "metadata": {},
   "outputs": [],
   "source": [
    "rfr = RandomForestRegressor()\n",
    "rfr_gs = GridSearchCV(\n",
    "    rfr,\n",
    "    {\n",
    "        \"n_estimators\": (16, 32, 64, 128, 256),\n",
    "        \"max_depth\": (1, 10, 50, 100, None),\n",
    "        \"min_samples_leaf\": (1, 2, 5, 10),\n",
    "        \"max_features\" : ['auto', 'sqrt', 'log2', None],\n",
    "    },\n",
    ")\n",
    "rfr_gs_final = rfr_gs.fit(X_tr, y_tr)"
   ]
  },
  {
   "cell_type": "code",
   "execution_count": 41,
   "metadata": {},
   "outputs": [
    {
     "data": {
      "text/plain": [
       "(0.9627612743059915,\n",
       " {'max_depth': 50, 'min_samples_leaf': 1, 'n_estimators': 128})"
      ]
     },
     "execution_count": 41,
     "metadata": {},
     "output_type": "execute_result"
    }
   ],
   "source": [
    "rfr_gs_final.best_score_, rfr_gs_final.best_params_"
   ]
  },
  {
   "cell_type": "code",
   "execution_count": 30,
   "metadata": {},
   "outputs": [
    {
     "data": {
      "text/html": [
       "<pre style=\"white-space:pre;overflow-x:auto;line-height:normal;font-family:Menlo,'DejaVu Sans Mono',consolas,'Courier New',monospace\"><span style=\"font-style: italic\">                                    Synthèse des modèles                                     </span>\n",
       "┏━━━━━━━━━━━━━━┳━━━━━━━━━━━━━━┳━━━━━━━━━━━━━━━┳━━━━━━━━━━━━━━┳━━━━━━━━━━━━━━━┳━━━━━━━━━━━━━━┓\n",
       "┃<span style=\"font-weight: bold\">              </span>┃<span style=\"font-weight: bold\">              </span>┃<span style=\"font-weight: bold\">               </span>┃<span style=\"font-weight: bold\"> Dispersion   </span>┃<span style=\"font-weight: bold\">               </span>┃<span style=\"font-weight: bold\">              </span>┃\n",
       "┃<span style=\"font-weight: bold\"> Model        </span>┃<span style=\"font-weight: bold\"> Train score  </span>┃<span style=\"font-weight: bold\"> Mean CV score </span>┃<span style=\"font-weight: bold\"> CV score     </span>┃<span style=\"font-weight: bold\"> Best score    </span>┃<span style=\"font-weight: bold\"> Best params  </span>┃\n",
       "┡━━━━━━━━━━━━━━╇━━━━━━━━━━━━━━╇━━━━━━━━━━━━━━━╇━━━━━━━━━━━━━━╇━━━━━━━━━━━━━━━╇━━━━━━━━━━━━━━┩\n",
       "│ LinearRegre… │ 0.730912717… │ 0.7291330299… │ 0.006145604… │ /             │ /            │\n",
       "│ RandomFores… │ 0.991168427… │ 0.9624061818… │ 0.003296081… │ 0.9625434369… │ {'n_estimat… │\n",
       "│              │              │               │              │               │ 128}         │\n",
       "└──────────────┴──────────────┴───────────────┴──────────────┴───────────────┴──────────────┘\n",
       "</pre>\n"
      ],
      "text/plain": [
       "\u001b[3m                                    Synthèse des modèles                                     \u001b[0m\n",
       "┏━━━━━━━━━━━━━━┳━━━━━━━━━━━━━━┳━━━━━━━━━━━━━━━┳━━━━━━━━━━━━━━┳━━━━━━━━━━━━━━━┳━━━━━━━━━━━━━━┓\n",
       "┃\u001b[1m              \u001b[0m┃\u001b[1m              \u001b[0m┃\u001b[1m               \u001b[0m┃\u001b[1m \u001b[0m\u001b[1mDispersion  \u001b[0m\u001b[1m \u001b[0m┃\u001b[1m               \u001b[0m┃\u001b[1m              \u001b[0m┃\n",
       "┃\u001b[1m \u001b[0m\u001b[1mModel       \u001b[0m\u001b[1m \u001b[0m┃\u001b[1m \u001b[0m\u001b[1mTrain score \u001b[0m\u001b[1m \u001b[0m┃\u001b[1m \u001b[0m\u001b[1mMean CV score\u001b[0m\u001b[1m \u001b[0m┃\u001b[1m \u001b[0m\u001b[1mCV score    \u001b[0m\u001b[1m \u001b[0m┃\u001b[1m \u001b[0m\u001b[1mBest score   \u001b[0m\u001b[1m \u001b[0m┃\u001b[1m \u001b[0m\u001b[1mBest params \u001b[0m\u001b[1m \u001b[0m┃\n",
       "┡━━━━━━━━━━━━━━╇━━━━━━━━━━━━━━╇━━━━━━━━━━━━━━━╇━━━━━━━━━━━━━━╇━━━━━━━━━━━━━━━╇━━━━━━━━━━━━━━┩\n",
       "│ LinearRegre… │ 0.730912717… │ 0.7291330299… │ 0.006145604… │ /             │ /            │\n",
       "│ RandomFores… │ 0.991168427… │ 0.9624061818… │ 0.003296081… │ 0.9625434369… │ {'n_estimat… │\n",
       "│              │              │               │              │               │ 128}         │\n",
       "└──────────────┴──────────────┴───────────────┴──────────────┴───────────────┴──────────────┘\n"
      ]
     },
     "metadata": {},
     "output_type": "display_data"
    },
    {
     "data": {
      "text/html": [
       "<pre style=\"white-space:pre;overflow-x:auto;line-height:normal;font-family:Menlo,'DejaVu Sans Mono',consolas,'Courier New',monospace\"><span style=\"color: #800080; text-decoration-color: #800080; font-weight: bold\">GridSearchCV</span><span style=\"font-weight: bold\">(</span><span style=\"color: #808000; text-decoration-color: #808000\">estimator</span>=<span style=\"color: #800080; text-decoration-color: #800080; font-weight: bold\">RandomForestRegressor</span><span style=\"font-weight: bold\">()</span>,\n",
       "             <span style=\"color: #808000; text-decoration-color: #808000\">param_grid</span>=<span style=\"font-weight: bold\">{</span><span style=\"color: #008000; text-decoration-color: #008000\">'n_estimators'</span>: <span style=\"font-weight: bold\">(</span><span style=\"color: #008080; text-decoration-color: #008080; font-weight: bold\">8</span>, <span style=\"color: #008080; text-decoration-color: #008080; font-weight: bold\">16</span>, <span style=\"color: #008080; text-decoration-color: #008080; font-weight: bold\">32</span>, <span style=\"color: #008080; text-decoration-color: #008080; font-weight: bold\">64</span>, <span style=\"color: #008080; text-decoration-color: #008080; font-weight: bold\">128</span>, <span style=\"color: #008080; text-decoration-color: #008080; font-weight: bold\">256</span><span style=\"font-weight: bold\">)})</span>\n",
       "</pre>\n"
      ],
      "text/plain": [
       "\u001b[1;35mGridSearchCV\u001b[0m\u001b[1m(\u001b[0m\u001b[33mestimator\u001b[0m=\u001b[1;35mRandomForestRegressor\u001b[0m\u001b[1m(\u001b[0m\u001b[1m)\u001b[0m,\n",
       "             \u001b[33mparam_grid\u001b[0m=\u001b[1m{\u001b[0m\u001b[32m'n_estimators'\u001b[0m: \u001b[1m(\u001b[0m\u001b[1;36m8\u001b[0m, \u001b[1;36m16\u001b[0m, \u001b[1;36m32\u001b[0m, \u001b[1;36m64\u001b[0m, \u001b[1;36m128\u001b[0m, \u001b[1;36m256\u001b[0m\u001b[1m)\u001b[0m\u001b[1m}\u001b[0m\u001b[1m)\u001b[0m\n"
      ]
     },
     "metadata": {},
     "output_type": "display_data"
    }
   ],
   "source": [
    "overview = Table(\n",
    "    \"Model\",\n",
    "    \"Train score\",\n",
    "    \"Mean CV score\",\n",
    "    \"Dispersion CV score\",\n",
    "    \"Best score\",\n",
    "    \"Best params\",\n",
    "    title=\"Synthèse des modèles\",\n",
    ")\n",
    "\n",
    "models = [\n",
    "    lr_final,\n",
    "    # gpr_final,\n",
    "    rfr_gs_final,\n",
    "    # svr_gs_final,\n",
    "    # mlp_gs_final,\n",
    "    # naive_gs_final,\n",
    "    # log_gs_final,\n",
    "    # xgb_gs_final,\n",
    "    # gb_gs_final,\n",
    "    # adb_gs_final,\n",
    "]\n",
    "\n",
    "for model in models:\n",
    "    if \"GridSearchCV\" in str(model):\n",
    "        model_name = str(model.estimator)\n",
    "        best_score = model.best_score_\n",
    "        best_params = model.best_params_\n",
    "        if \"Pipeline\" in str(model):\n",
    "            model_name = str(model.estimator[1])\n",
    "    else:\n",
    "        model_name = str(model)\n",
    "        best_score = \"/\"\n",
    "        best_params = \"/\"\n",
    "\n",
    "    cv_scores = cross_val_score(model, X_tr, y_tr, cv=5)\n",
    "    overview.add_row(\n",
    "        str(model_name),\n",
    "        str(model.score(X_tr, y_tr)),\n",
    "        str(cv_scores.mean()),\n",
    "        str(cv_scores.std()),\n",
    "        str(best_score),\n",
    "        str(best_params),\n",
    "    )\n",
    "print(overview)\n",
    "\n",
    "value = 0\n",
    "for row in range(0, overview.row_count):\n",
    "    value = overview.columns[1]._cells\n",
    "    if value[row] > value[row - 1]:\n",
    "        value = value[row]\n",
    "        best_row = row\n",
    "best_model = models[best_row]\n",
    "print(best_model)"
   ]
  },
  {
   "cell_type": "code",
   "execution_count": 39,
   "metadata": {},
   "outputs": [
    {
     "data": {
      "text/plain": [
       "sklearn.model_selection._search.GridSearchCV"
      ]
     },
     "execution_count": 39,
     "metadata": {},
     "output_type": "execute_result"
    }
   ],
   "source": [
    "type(best_model)"
   ]
  },
  {
   "cell_type": "code",
   "execution_count": 38,
   "metadata": {},
   "outputs": [
    {
     "ename": "SyntaxError",
     "evalue": "invalid syntax (Temp/ipykernel_25048/690053080.py, line 29)",
     "output_type": "error",
     "traceback": [
      "\u001b[1;36m  File \u001b[1;32m\"C:\\Users\\bench\\AppData\\Local\\Temp/ipykernel_25048/690053080.py\"\u001b[1;36m, line \u001b[1;32m29\u001b[0m\n\u001b[1;33m    x = for i in list_id: df.index[df[\"Room_id\"] == list_id][i].astype(int).tolist()\u001b[0m\n\u001b[1;37m        ^\u001b[0m\n\u001b[1;31mSyntaxError\u001b[0m\u001b[1;31m:\u001b[0m invalid syntax\n"
     ]
    }
   ],
   "source": [
    "y_true, y_pred = y_te, rfr_gs_final.predict(X_te)\n",
    "\n",
    "true = np.array(y_true)\n",
    "pred = np.array(y_pred)\n",
    "pred = np.around(pred, decimals=1)\n",
    "\n",
    "ecart = list()\n",
    "for i in range(len(true)):\n",
    "    ecart.append(((pred[i] - true[i]) / true[i]) * 100)\n",
    "ecart = np.around(ecart, decimals=2)\n",
    "\n",
    "t = Table(\n",
    "    \"Réalité\",\n",
    "    \"Prédiction\",\n",
    "    \"Ecart\",\n",
    "    title=\"Résulat de la prédiction\",\n",
    "    show_header=True,\n",
    ")\n",
    "# for i in range(5):\n",
    "#     t.add_row(\n",
    "#         f\"{true[i]:.2f}\",\n",
    "#         f\"{pred[i]:.2f}\",\n",
    "#         f\"{ecart[i]:.2f} %\",\n",
    "#     )\n",
    "# x = df.index[df[\"Room_name\"] == \"Superior Double Room\"].astype(int).tolist()\n",
    "x = df.index[df[\"Room_id\"] == \"112030409_91947049_0_2_0\"].astype(int).tolist()\n",
    "x = df.index[df[\"Room_id\"].str.contains(\"112030409\")].astype(int).tolist()\n",
    "list_id = [\"112030409_91947049_0_2_0\", \"112030415_213798395_0_1_0\"]\n",
    "x = df.index[df[\"Room_id\"] == list_id].astype(int).tolist()\n",
    "for i in x:\n",
    "    t.add_row(\n",
    "        f\"{true[i]:.2f}\",\n",
    "        f\"{pred[i]:.2f}\",\n",
    "        f\"{ecart[i]:.2f} %\",\n",
    "    )\n",
    "print(t)"
   ]
  },
  {
   "cell_type": "code",
   "execution_count": null,
   "metadata": {},
   "outputs": [],
   "source": [
    "\"112030409_91947049_0_2_0\""
   ]
  },
  {
   "cell_type": "code",
   "execution_count": null,
   "metadata": {},
   "outputs": [],
   "source": []
  },
  {
   "cell_type": "code",
   "execution_count": null,
   "metadata": {},
   "outputs": [],
   "source": []
  }
 ],
 "metadata": {
  "kernelspec": {
   "display_name": "Python 3",
   "language": "python",
   "name": "python3"
  },
  "language_info": {
   "codemirror_mode": {
    "name": "ipython",
    "version": 3
   },
   "file_extension": ".py",
   "mimetype": "text/x-python",
   "name": "python",
   "nbconvert_exporter": "python",
   "pygments_lexer": "ipython3",
   "version": "3.10.0"
  },
  "orig_nbformat": 4,
  "vscode": {
   "interpreter": {
    "hash": "87da8bbe31424172950c585c0c63b7b96a73ef123ab0509fbbd9c85bb04ec528"
   }
  }
 },
 "nbformat": 4,
 "nbformat_minor": 2
}
