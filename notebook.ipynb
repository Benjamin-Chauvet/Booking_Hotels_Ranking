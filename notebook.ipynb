{
 "cells": [
  {
   "cell_type": "code",
   "execution_count": 1,
   "metadata": {},
   "outputs": [
    {
     "name": "stdout",
     "output_type": "stream",
     "text": [
      "No sign in message\n"
     ]
    }
   ],
   "source": [
    "from selenium import webdriver\n",
    "from selenium.webdriver.common.by import By\n",
    "from selenium.common.exceptions import NoSuchElementException, ElementClickInterceptedException, WebDriverException\n",
    "from time import sleep\n",
    "from requests import get\n",
    "from bs4 import BeautifulSoup\n",
    "import pandas as pd\n",
    "import sys\n",
    "\n",
    "option = webdriver.ChromeOptions()\n",
    "option.add_argument('--disable-blink-features=AutomationControlled')\n",
    "option.add_argument(\"--start-maximized\")\n",
    "driver = webdriver.Chrome(options=option)\n",
    "try:\n",
    "    driver.get('https://www.booking.com/en-gb/')\n",
    "except WebDriverException:\n",
    "    print(\"Internet disconnected\")\n",
    "    driver.quit()\n",
    "\n",
    "driver.implicitly_wait(4)\n",
    "\n",
    "\n",
    "try:\n",
    "    driver.find_element(By.ID, 'onetrust-accept-btn-handler').click()\n",
    "except NoSuchElementException:\n",
    "    print('No cookies on the web page')\n",
    "\n",
    "destination = 'Paris'\n",
    "try:\n",
    "    search_bar = driver.find_element(By.CLASS_NAME, \"sb-destination-label-sr\")\n",
    "    #search_bar = driver.find_element(By.CLASS_NAME, \"ce45093752\")\n",
    "except NoSuchElementException:\n",
    "    pass\n",
    "sleep(1)\n",
    "search_bar.send_keys(destination) # attention il faudra traiter si on veut \"Paris\" ou \"Paris centre\"\n",
    "sleep(1)\n",
    "\n",
    "try:\n",
    "    open_calendar = driver.find_element(By.CLASS_NAME, \"xp__dates-inner\")\n",
    "except NoSuchElementException:\n",
    "    pass\n",
    "open_calendar.click()\n",
    "\n",
    "checkin_date = '15 May 2023'\n",
    "checkout_date = None\n",
    "while True:\n",
    "    try:\n",
    "        driver.find_element(By.CSS_SELECTOR, f\"[aria-label='{checkin_date}']\").click()\n",
    "        break\n",
    "    except NoSuchElementException:\n",
    "        driver.find_element(By.CSS_SELECTOR, '[data-bui-ref=\"calendar-next\"]').click()\n",
    "\n",
    "if not checkout_date:\n",
    "    pass\n",
    "else:\n",
    "    while True:\n",
    "        try:\n",
    "            driver.find_element(By.CSS_SELECTOR, f\"[aria-label='{checkout_date}']\").click()\n",
    "            break\n",
    "        except NoSuchElementException:\n",
    "            driver.find_element(By.CSS_SELECTOR, '[data-bui-ref=\"calendar-next\"]').click()\n",
    "\n",
    "try:\n",
    "    search_bouton = driver.find_element(By.CLASS_NAME, 'xp__button')\n",
    "except NoSuchElementException:\n",
    "    pass\n",
    "search_bouton.click()\n",
    "\n",
    "try:\n",
    "    driver.find_element(By.CSS_SELECTOR, \"[aria-label='Dismiss sign in information.']\").click()\n",
    "except NoSuchElementException:\n",
    "    print('No sign in message')\n",
    "\n",
    "hotels = driver.find_elements(By.CLASS_NAME, 'a23c043802')\n",
    "hotels[0].click()\n",
    "\n",
    "new_window = driver.window_handles[1]\n",
    "driver.switch_to.window(new_window)"
   ]
  }
 ],
 "metadata": {
  "kernelspec": {
   "display_name": "Python 3.10.0 64-bit",
   "language": "python",
   "name": "python3"
  },
  "language_info": {
   "codemirror_mode": {
    "name": "ipython",
    "version": 3
   },
   "file_extension": ".py",
   "mimetype": "text/x-python",
   "name": "python",
   "nbconvert_exporter": "python",
   "pygments_lexer": "ipython3",
   "version": "3.10.0"
  },
  "orig_nbformat": 4,
  "vscode": {
   "interpreter": {
    "hash": "e192c477015e0c8e4427e2a21fcada2aaf43102079abc726728a52ed32b2764a"
   }
  }
 },
 "nbformat": 4,
 "nbformat_minor": 2
}
